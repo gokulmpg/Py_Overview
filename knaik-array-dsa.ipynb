{
 "cells": [
  {
   "cell_type": "code",
   "execution_count": 1,
   "id": "658690f2",
   "metadata": {
    "_cell_guid": "b1076dfc-b9ad-4769-8c92-a6c4dae69d19",
    "_uuid": "8f2839f25d086af736a60e9eeb907d3b93b6e0e5",
    "execution": {
     "iopub.execute_input": "2024-02-04T18:20:46.202536Z",
     "iopub.status.busy": "2024-02-04T18:20:46.201775Z",
     "iopub.status.idle": "2024-02-04T18:20:47.247773Z",
     "shell.execute_reply": "2024-02-04T18:20:47.245818Z"
    },
    "papermill": {
     "duration": 1.05418,
     "end_time": "2024-02-04T18:20:47.250555",
     "exception": false,
     "start_time": "2024-02-04T18:20:46.196375",
     "status": "completed"
    },
    "tags": []
   },
   "outputs": [],
   "source": [
    "# This Python 3 environment comes with many helpful analytics libraries installed\n",
    "# It is defined by the kaggle/python Docker image: https://github.com/kaggle/docker-python\n",
    "# For example, here's several helpful packages to load\n",
    "\n",
    "import numpy as np # linear algebra\n",
    "import pandas as pd # data processing, CSV file I/O (e.g. pd.read_csv)\n",
    "\n",
    "# Input data files are available in the read-only \"../input/\" directory\n",
    "# For example, running this (by clicking run or pressing Shift+Enter) will list all files under the input directory\n",
    "\n",
    "import os\n",
    "for dirname, _, filenames in os.walk('/kaggle/input'):\n",
    "    for filename in filenames:\n",
    "        print(os.path.join(dirname, filename))\n",
    "\n",
    "# You can write up to 20GB to the current directory (/kaggle/working/) that gets preserved as output when you create a version using \"Save & Run All\" \n",
    "# You can also write temporary files to /kaggle/temp/, but they won't be saved outside of the current session"
   ]
  },
  {
   "cell_type": "markdown",
   "id": "0ce851d3",
   "metadata": {
    "papermill": {
     "duration": 0.002592,
     "end_time": "2024-02-04T18:20:47.256333",
     "exception": false,
     "start_time": "2024-02-04T18:20:47.253741",
     "status": "completed"
    },
    "tags": []
   },
   "source": [
    "# Array Data structures\n",
    "\n",
    "Searching concept in an array.  It can be usually two things.\n",
    "\n",
    "Linear Search  & Binary Search\n",
    "\n",
    "#### Linear Searching :"
   ]
  },
  {
   "cell_type": "code",
   "execution_count": 2,
   "id": "9635498b",
   "metadata": {
    "execution": {
     "iopub.execute_input": "2024-02-04T18:20:47.264452Z",
     "iopub.status.busy": "2024-02-04T18:20:47.263051Z",
     "iopub.status.idle": "2024-02-04T18:20:47.272869Z",
     "shell.execute_reply": "2024-02-04T18:20:47.271786Z"
    },
    "papermill": {
     "duration": 0.0176,
     "end_time": "2024-02-04T18:20:47.276654",
     "exception": false,
     "start_time": "2024-02-04T18:20:47.259054",
     "status": "completed"
    },
    "tags": []
   },
   "outputs": [
    {
     "name": "stdout",
     "output_type": "stream",
     "text": [
      "4 th element is 6\n"
     ]
    },
    {
     "data": {
      "text/plain": [
       "4"
      ]
     },
     "execution_count": 2,
     "metadata": {},
     "output_type": "execute_result"
    }
   ],
   "source": [
    "# WORST CASE SCENERIO == O(n)\n",
    "## BEST CASE SCENERIO == O(1)\n",
    "### AVERAGE CASE SCENERIO == O(n)\n",
    "arr = [1,2,34,5,6,7,4,9]\n",
    "\n",
    "n = len(arr)\n",
    "for i in range(n):\n",
    "    if arr[i] == 6:\n",
    "        print(i,\"th element is\", 6)\n",
    "        \n",
    "arr.index(6)"
   ]
  },
  {
   "cell_type": "markdown",
   "id": "af8912e5",
   "metadata": {
    "papermill": {
     "duration": 0.002588,
     "end_time": "2024-02-04T18:20:47.282223",
     "exception": false,
     "start_time": "2024-02-04T18:20:47.279635",
     "status": "completed"
    },
    "tags": []
   },
   "source": [
    "#### Binary Search\n",
    "\n",
    "Based on Divide and conquer\n",
    "\n"
   ]
  },
  {
   "cell_type": "markdown",
   "id": "4bbc1aba",
   "metadata": {
    "execution": {
     "iopub.execute_input": "2024-02-04T15:19:06.190694Z",
     "iopub.status.busy": "2024-02-04T15:19:06.190282Z",
     "iopub.status.idle": "2024-02-04T15:19:06.195789Z",
     "shell.execute_reply": "2024-02-04T15:19:06.194574Z",
     "shell.execute_reply.started": "2024-02-04T15:19:06.190663Z"
    },
    "papermill": {
     "duration": 0.00254,
     "end_time": "2024-02-04T18:20:47.287646",
     "exception": false,
     "start_time": "2024-02-04T18:20:47.285106",
     "status": "completed"
    },
    "tags": []
   },
   "source": [
    "\n",
    "\n",
    "##### Small problem is when the array has one element\n",
    "\n",
    "\n",
    "##### Big problem is n elements\n",
    "\n",
    "\n",
    "> mid = len(S_arr) // 2\n",
    "\n",
    "##### if S_arr(mid)  ==  x: return mid\n",
    "\n",
    "###### -----------------------------------------\n",
    "\n",
    "> S_arr(mid) < x \n",
    "\n",
    "##### Now we can call a recursion with mid +1   --> T(n/2)  on Left side\n",
    "\n",
    "> BinarySearch(arr,mid+1,j,x)\n",
    "\n",
    "###### -----------------------------------------\n",
    "> S_arr(mid > x)\n",
    "\n",
    "\n",
    "\n",
    "##### Now we can call a recursion with mid -1    --> T(n/2)   on Right side\n",
    "\n",
    "> BinarySearch(arr,mid-1,j,x)"
   ]
  },
  {
   "cell_type": "code",
   "execution_count": 3,
   "id": "42d1fdcf",
   "metadata": {
    "execution": {
     "iopub.execute_input": "2024-02-04T18:20:47.295342Z",
     "iopub.status.busy": "2024-02-04T18:20:47.294414Z",
     "iopub.status.idle": "2024-02-04T18:20:47.302738Z",
     "shell.execute_reply": "2024-02-04T18:20:47.301387Z"
    },
    "papermill": {
     "duration": 0.0152,
     "end_time": "2024-02-04T18:20:47.305555",
     "exception": false,
     "start_time": "2024-02-04T18:20:47.290355",
     "status": "completed"
    },
    "tags": []
   },
   "outputs": [
    {
     "name": "stdout",
     "output_type": "stream",
     "text": [
      "4\n"
     ]
    }
   ],
   "source": [
    "# BEST CASE SCENERIO == O(log n)\n",
    "# WORST CASE SCENERIO == \n",
    "# AVERAGE CASE SCENERIO ==\n",
    "\n",
    "\n",
    "def BinarySearch(arr,i,j,x):\n",
    "    while i <= j:\n",
    "        mid = i + (j -i) // 2\n",
    "        if arr[mid] == x:\n",
    "            return mid\n",
    "        elif arr[mid] <x:\n",
    "            return BinarySearch(arr,mid+1,j,x)\n",
    "        else:\n",
    "            return BinarySearch(arr, i, mid-1,x)\n",
    "        \n",
    "    return -1\n",
    "        \n",
    "\n",
    "\n",
    "\n",
    "\n",
    "S_arr = [1,2,3,4,5,6,7,8]\n",
    "\n",
    "x = 5\n",
    "\n",
    "i = 0\n",
    "\n",
    "j = len(S_arr) - 1\n",
    "\n",
    "result = BinarySearch(S_arr,i,j,x)\n",
    "print(result)\n",
    "\n",
    "    "
   ]
  },
  {
   "cell_type": "markdown",
   "id": "268f13ff",
   "metadata": {
    "papermill": {
     "duration": 0.002711,
     "end_time": "2024-02-04T18:20:47.311493",
     "exception": false,
     "start_time": "2024-02-04T18:20:47.308782",
     "status": "completed"
    },
    "tags": []
   },
   "source": [
    "#### Interview Questions from MAANG\n",
    "\n",
    "##### 1. Index of first infinite element where,  input = (1,2,24,3,4,45,61,7,33,'inf','inf','inf','inf','inf')."
   ]
  },
  {
   "cell_type": "code",
   "execution_count": 4,
   "id": "621e281d",
   "metadata": {
    "execution": {
     "iopub.execute_input": "2024-02-04T18:20:47.319752Z",
     "iopub.status.busy": "2024-02-04T18:20:47.319023Z",
     "iopub.status.idle": "2024-02-04T18:20:47.324837Z",
     "shell.execute_reply": "2024-02-04T18:20:47.323661Z"
    },
    "papermill": {
     "duration": 0.013112,
     "end_time": "2024-02-04T18:20:47.327611",
     "exception": false,
     "start_time": "2024-02-04T18:20:47.314499",
     "status": "completed"
    },
    "tags": []
   },
   "outputs": [],
   "source": [
    "array = [1,2,24,3,4,45,61,7,33,'inf','inf','inf','inf','inf']\n",
    "\n",
    "i = 0\n",
    "j = len(array)-1\n",
    "x = 'inf'\n",
    "\n",
    "#BinarySearch(array,i,j,x):\n",
    "    \n"
   ]
  },
  {
   "cell_type": "markdown",
   "id": "797c4f7c",
   "metadata": {
    "papermill": {
     "duration": 0.002717,
     "end_time": "2024-02-04T18:20:47.333496",
     "exception": false,
     "start_time": "2024-02-04T18:20:47.330779",
     "status": "completed"
    },
    "tags": []
   },
   "source": []
  },
  {
   "cell_type": "code",
   "execution_count": null,
   "id": "c28559b6",
   "metadata": {
    "papermill": {
     "duration": 0.002582,
     "end_time": "2024-02-04T18:20:47.338984",
     "exception": false,
     "start_time": "2024-02-04T18:20:47.336402",
     "status": "completed"
    },
    "tags": []
   },
   "outputs": [],
   "source": []
  }
 ],
 "metadata": {
  "kaggle": {
   "accelerator": "none",
   "dataSources": [],
   "dockerImageVersionId": 30646,
   "isGpuEnabled": false,
   "isInternetEnabled": true,
   "language": "python",
   "sourceType": "notebook"
  },
  "kernelspec": {
   "display_name": "Python 3",
   "language": "python",
   "name": "python3"
  },
  "language_info": {
   "codemirror_mode": {
    "name": "ipython",
    "version": 3
   },
   "file_extension": ".py",
   "mimetype": "text/x-python",
   "name": "python",
   "nbconvert_exporter": "python",
   "pygments_lexer": "ipython3",
   "version": "3.10.13"
  },
  "papermill": {
   "default_parameters": {},
   "duration": 4.962046,
   "end_time": "2024-02-04T18:20:47.862886",
   "environment_variables": {},
   "exception": null,
   "input_path": "__notebook__.ipynb",
   "output_path": "__notebook__.ipynb",
   "parameters": {},
   "start_time": "2024-02-04T18:20:42.900840",
   "version": "2.5.0"
  }
 },
 "nbformat": 4,
 "nbformat_minor": 5
}
