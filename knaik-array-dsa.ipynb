{
 "cells": [
  {
   "cell_type": "code",
   "execution_count": 1,
   "id": "9efe49a2",
   "metadata": {
    "_cell_guid": "b1076dfc-b9ad-4769-8c92-a6c4dae69d19",
    "_uuid": "8f2839f25d086af736a60e9eeb907d3b93b6e0e5",
    "execution": {
     "iopub.execute_input": "2024-02-04T20:52:49.745488Z",
     "iopub.status.busy": "2024-02-04T20:52:49.744994Z",
     "iopub.status.idle": "2024-02-04T20:52:50.935050Z",
     "shell.execute_reply": "2024-02-04T20:52:50.933782Z"
    },
    "papermill": {
     "duration": 1.200653,
     "end_time": "2024-02-04T20:52:50.938309",
     "exception": false,
     "start_time": "2024-02-04T20:52:49.737656",
     "status": "completed"
    },
    "tags": []
   },
   "outputs": [],
   "source": [
    "# This Python 3 environment comes with many helpful analytics libraries installed\n",
    "# It is defined by the kaggle/python Docker image: https://github.com/kaggle/docker-python\n",
    "# For example, here's several helpful packages to load\n",
    "\n",
    "import numpy as np # linear algebra\n",
    "import pandas as pd # data processing, CSV file I/O (e.g. pd.read_csv)\n",
    "\n",
    "# Input data files are available in the read-only \"../input/\" directory\n",
    "# For example, running this (by clicking run or pressing Shift+Enter) will list all files under the input directory\n",
    "\n",
    "import os\n",
    "for dirname, _, filenames in os.walk('/kaggle/input'):\n",
    "    for filename in filenames:\n",
    "        print(os.path.join(dirname, filename))\n",
    "\n",
    "# You can write up to 20GB to the current directory (/kaggle/working/) that gets preserved as output when you create a version using \"Save & Run All\" \n",
    "# You can also write temporary files to /kaggle/temp/, but they won't be saved outside of the current session"
   ]
  },
  {
   "cell_type": "markdown",
   "id": "061491fc",
   "metadata": {
    "papermill": {
     "duration": 0.004409,
     "end_time": "2024-02-04T20:52:50.947918",
     "exception": false,
     "start_time": "2024-02-04T20:52:50.943509",
     "status": "completed"
    },
    "tags": []
   },
   "source": [
    "# Array Data structures\n",
    "\n",
    "Searching concept in an array.  It can be usually two things.\n",
    "\n",
    "Linear Search  & Binary Search\n",
    "\n",
    "#### Linear Searching :"
   ]
  },
  {
   "cell_type": "code",
   "execution_count": 2,
   "id": "f0682651",
   "metadata": {
    "execution": {
     "iopub.execute_input": "2024-02-04T20:52:50.959181Z",
     "iopub.status.busy": "2024-02-04T20:52:50.958611Z",
     "iopub.status.idle": "2024-02-04T20:52:50.970370Z",
     "shell.execute_reply": "2024-02-04T20:52:50.968883Z"
    },
    "papermill": {
     "duration": 0.022187,
     "end_time": "2024-02-04T20:52:50.974739",
     "exception": false,
     "start_time": "2024-02-04T20:52:50.952552",
     "status": "completed"
    },
    "tags": []
   },
   "outputs": [
    {
     "name": "stdout",
     "output_type": "stream",
     "text": [
      "4 th element is 6\n"
     ]
    },
    {
     "data": {
      "text/plain": [
       "4"
      ]
     },
     "execution_count": 2,
     "metadata": {},
     "output_type": "execute_result"
    }
   ],
   "source": [
    "# WORST CASE SCENERIO == O(n)\n",
    "## BEST CASE SCENERIO == O(1)\n",
    "### AVERAGE CASE SCENERIO == O(n)\n",
    "arr = [1,2,34,5,6,7,4,9]\n",
    "\n",
    "n = len(arr)\n",
    "for i in range(n):\n",
    "    if arr[i] == 6:\n",
    "        print(i,\"th element is\", 6)\n",
    "        \n",
    "arr.index(6)"
   ]
  },
  {
   "cell_type": "markdown",
   "id": "036d6390",
   "metadata": {
    "papermill": {
     "duration": 0.004776,
     "end_time": "2024-02-04T20:52:50.985014",
     "exception": false,
     "start_time": "2024-02-04T20:52:50.980238",
     "status": "completed"
    },
    "tags": []
   },
   "source": [
    "#### Binary Search\n",
    "\n",
    "Based on Divide and conquer\n",
    "\n"
   ]
  },
  {
   "cell_type": "markdown",
   "id": "ac582113",
   "metadata": {
    "execution": {
     "iopub.execute_input": "2024-02-04T15:19:06.190694Z",
     "iopub.status.busy": "2024-02-04T15:19:06.190282Z",
     "iopub.status.idle": "2024-02-04T15:19:06.195789Z",
     "shell.execute_reply": "2024-02-04T15:19:06.194574Z",
     "shell.execute_reply.started": "2024-02-04T15:19:06.190663Z"
    },
    "papermill": {
     "duration": 0.00497,
     "end_time": "2024-02-04T20:52:50.995854",
     "exception": false,
     "start_time": "2024-02-04T20:52:50.990884",
     "status": "completed"
    },
    "tags": []
   },
   "source": [
    "\n",
    "\n",
    "##### Small problem is when the array has one element\n",
    "\n",
    "\n",
    "##### Big problem is n elements\n",
    "\n",
    "\n",
    "> mid = len(S_arr) // 2\n",
    "\n",
    "##### if S_arr(mid)  ==  x: return mid\n",
    "\n",
    "###### -----------------------------------------\n",
    "\n",
    "> S_arr(mid) < x \n",
    "\n",
    "##### Now we can call a recursion with mid +1   --> T(n/2)  on Left side\n",
    "\n",
    "> BinarySearch(arr,mid+1,j,x)\n",
    "\n",
    "###### -----------------------------------------\n",
    "> S_arr(mid > x)\n",
    "\n",
    "\n",
    "\n",
    "##### Now we can call a recursion with mid -1    --> T(n/2)   on Right side\n",
    "\n",
    "> BinarySearch(arr,mid-1,j,x)"
   ]
  },
  {
   "cell_type": "code",
   "execution_count": 3,
   "id": "45fd5557",
   "metadata": {
    "execution": {
     "iopub.execute_input": "2024-02-04T20:52:51.008440Z",
     "iopub.status.busy": "2024-02-04T20:52:51.007984Z",
     "iopub.status.idle": "2024-02-04T20:52:51.018739Z",
     "shell.execute_reply": "2024-02-04T20:52:51.017214Z"
    },
    "papermill": {
     "duration": 0.020462,
     "end_time": "2024-02-04T20:52:51.021848",
     "exception": false,
     "start_time": "2024-02-04T20:52:51.001386",
     "status": "completed"
    },
    "tags": []
   },
   "outputs": [
    {
     "name": "stdout",
     "output_type": "stream",
     "text": [
      "4\n"
     ]
    }
   ],
   "source": [
    "# BEST CASE SCENERIO == O(log n)\n",
    "# WORST CASE SCENERIO == \n",
    "# AVERAGE CASE SCENERIO ==\n",
    "\n",
    "\n",
    "def BinarySearch(arr,i,j,x):\n",
    "    while i <= j:\n",
    "        mid = i + (j -i) // 2\n",
    "        if arr[mid] == x:\n",
    "            return mid\n",
    "        elif arr[mid] <x:\n",
    "            return BinarySearch(arr,mid+1,j,x)\n",
    "        else:\n",
    "            return BinarySearch(arr, i, mid-1,x)\n",
    "        \n",
    "    return -1\n",
    "        \n",
    "\n",
    "\n",
    "\n",
    "\n",
    "S_arr = [1,2,3,4,5,6,7,8]\n",
    "\n",
    "x = 5\n",
    "\n",
    "i = 0\n",
    "\n",
    "j = len(S_arr) - 1\n",
    "\n",
    "result = BinarySearch(S_arr,i,j,x)\n",
    "print(result)\n",
    "\n",
    "    "
   ]
  },
  {
   "cell_type": "markdown",
   "id": "e5a96301",
   "metadata": {
    "papermill": {
     "duration": 0.005315,
     "end_time": "2024-02-04T20:52:51.032403",
     "exception": false,
     "start_time": "2024-02-04T20:52:51.027088",
     "status": "completed"
    },
    "tags": []
   },
   "source": [
    "#### Interview Questions from MAANG\n",
    "\n",
    "##### 1. Index of first infinite element where,  input = (1,2,24,3,4,45,61,7,33,'inf','inf','inf','inf','inf')."
   ]
  },
  {
   "cell_type": "code",
   "execution_count": 4,
   "id": "b65f5a4f",
   "metadata": {
    "execution": {
     "iopub.execute_input": "2024-02-04T20:52:51.044568Z",
     "iopub.status.busy": "2024-02-04T20:52:51.044105Z",
     "iopub.status.idle": "2024-02-04T20:52:51.051052Z",
     "shell.execute_reply": "2024-02-04T20:52:51.049299Z"
    },
    "papermill": {
     "duration": 0.016082,
     "end_time": "2024-02-04T20:52:51.053614",
     "exception": false,
     "start_time": "2024-02-04T20:52:51.037532",
     "status": "completed"
    },
    "tags": []
   },
   "outputs": [],
   "source": [
    "array = [1,2,24,3,4,45,61,7,33,'inf','inf','inf','inf','inf']\n",
    "\n",
    "i = 0\n",
    "j = len(array)-1\n",
    "x = 'inf'\n",
    "\n",
    "#BinarySearch(array,i,j,x):\n",
    "    \n"
   ]
  },
  {
   "cell_type": "markdown",
   "id": "1ed3c618",
   "metadata": {
    "papermill": {
     "duration": 0.005848,
     "end_time": "2024-02-04T20:52:51.064629",
     "exception": false,
     "start_time": "2024-02-04T20:52:51.058781",
     "status": "completed"
    },
    "tags": []
   },
   "source": [
    "##### 2. Search Two dimens matrix through Binary Search\n",
    "\n",
    "- Sorted 2d array\n",
    "\n",
    "- Target = given\n",
    "\n",
    "-  if it is present, output true else \n",
    "\n",
    "\n",
    "- Brute Force or Naive Approach\n",
    "> Scan through entire matrix with O(m*n)\n",
    "\n",
    "Row major form of a matrix --> (11, 12, 13, 21 , 22, 23, 31 , 32 ,33)\n"
   ]
  },
  {
   "cell_type": "code",
   "execution_count": 5,
   "id": "04a8d7b1",
   "metadata": {
    "execution": {
     "iopub.execute_input": "2024-02-04T20:52:51.077030Z",
     "iopub.status.busy": "2024-02-04T20:52:51.076571Z",
     "iopub.status.idle": "2024-02-04T20:52:51.090071Z",
     "shell.execute_reply": "2024-02-04T20:52:51.088794Z"
    },
    "papermill": {
     "duration": 0.023244,
     "end_time": "2024-02-04T20:52:51.093089",
     "exception": false,
     "start_time": "2024-02-04T20:52:51.069845",
     "status": "completed"
    },
    "tags": []
   },
   "outputs": [
    {
     "data": {
      "text/plain": [
       "False"
      ]
     },
     "execution_count": 5,
     "metadata": {},
     "output_type": "execute_result"
    }
   ],
   "source": [
    "\n",
    "def searchMatrix(matrix, target):\n",
    "    \n",
    "    m = len(matrix)\n",
    "    if m == 0:\n",
    "        return False\n",
    "    n = len(matrix[0])\n",
    "    \n",
    "    left,right = 0, m*n - 1\n",
    "    while left <= right:\n",
    "        mid = left +(right - left)//2\n",
    "        mid_element = matrix[mid//n][mid%n]\n",
    "        if target == mid_element:\n",
    "            return True\n",
    "        elif target < mid_element:\n",
    "            right = mid-1\n",
    "        else:\n",
    "            left = mid+1\n",
    "    return False\n",
    "\n",
    "\n",
    "matrix = [[1,2,3],[4,6,7],[11,13,15]]\n",
    "\n",
    "target = 5\n",
    "\n",
    "searchMatrix(matrix, target)\n"
   ]
  },
  {
   "cell_type": "markdown",
   "id": "ae1b2e94",
   "metadata": {
    "execution": {
     "iopub.execute_input": "2024-02-04T18:58:22.054474Z",
     "iopub.status.busy": "2024-02-04T18:58:22.054078Z",
     "iopub.status.idle": "2024-02-04T18:58:22.061131Z",
     "shell.execute_reply": "2024-02-04T18:58:22.059743Z",
     "shell.execute_reply.started": "2024-02-04T18:58:22.054446Z"
    },
    "papermill": {
     "duration": 0.007122,
     "end_time": "2024-02-04T20:52:51.106277",
     "exception": false,
     "start_time": "2024-02-04T20:52:51.099155",
     "status": "completed"
    },
    "tags": []
   },
   "source": [
    "#### Ternary Search\n",
    "\n",
    "- Sorted array\n",
    "\n",
    "- mid1 = l + r- l//3\n",
    "- mid2 = r-r-l // 3\n",
    "\n",
    "- "
   ]
  },
  {
   "cell_type": "code",
   "execution_count": null,
   "id": "8dd3fb12",
   "metadata": {
    "papermill": {
     "duration": 0.006245,
     "end_time": "2024-02-04T20:52:51.120126",
     "exception": false,
     "start_time": "2024-02-04T20:52:51.113881",
     "status": "completed"
    },
    "tags": []
   },
   "outputs": [],
   "source": []
  }
 ],
 "metadata": {
  "kaggle": {
   "accelerator": "none",
   "dataSources": [],
   "dockerImageVersionId": 30646,
   "isGpuEnabled": false,
   "isInternetEnabled": true,
   "language": "python",
   "sourceType": "notebook"
  },
  "kernelspec": {
   "display_name": "Python 3",
   "language": "python",
   "name": "python3"
  },
  "language_info": {
   "codemirror_mode": {
    "name": "ipython",
    "version": 3
   },
   "file_extension": ".py",
   "mimetype": "text/x-python",
   "name": "python",
   "nbconvert_exporter": "python",
   "pygments_lexer": "ipython3",
   "version": "3.10.13"
  },
  "papermill": {
   "default_parameters": {},
   "duration": 5.712909,
   "end_time": "2024-02-04T20:52:51.850085",
   "environment_variables": {},
   "exception": null,
   "input_path": "__notebook__.ipynb",
   "output_path": "__notebook__.ipynb",
   "parameters": {},
   "start_time": "2024-02-04T20:52:46.137176",
   "version": "2.5.0"
  }
 },
 "nbformat": 4,
 "nbformat_minor": 5
}
