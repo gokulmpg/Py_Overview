{
 "cells": [
  {
   "cell_type": "code",
   "execution_count": 1,
   "id": "cc67fbe3",
   "metadata": {
    "_cell_guid": "b1076dfc-b9ad-4769-8c92-a6c4dae69d19",
    "_uuid": "8f2839f25d086af736a60e9eeb907d3b93b6e0e5",
    "execution": {
     "iopub.execute_input": "2023-12-20T00:13:44.725889Z",
     "iopub.status.busy": "2023-12-20T00:13:44.725522Z",
     "iopub.status.idle": "2023-12-20T00:13:44.745457Z",
     "shell.execute_reply": "2023-12-20T00:13:44.743735Z"
    },
    "papermill": {
     "duration": 0.027276,
     "end_time": "2023-12-20T00:13:44.748280",
     "exception": false,
     "start_time": "2023-12-20T00:13:44.721004",
     "status": "completed"
    },
    "tags": []
   },
   "outputs": [
    {
     "name": "stdout",
     "output_type": "stream",
     "text": [
      "/kaggle/input/healthcare/healthcare-coverage.csv\n",
      "/kaggle/input/healthcare/healthcare-spending.csv\n"
     ]
    }
   ],
   "source": [
    "# This Python 3 environment comes with many helpful analytics libraries installed\n",
    "# It is defined by the kaggle/python Docker image: https://github.com/kaggle/docker-python\n",
    "# For example, here's several helpful packages to load\n",
    "\n",
    "import numpy as np # linear algebra\n",
    "import pandas as pd # data processing, CSV file I/O (e.g. pd.read_csv)\n",
    "\n",
    "# Input data files are available in the read-only \"../input/\" directory\n",
    "# For example, running this (by clicking run or pressing Shift+Enter) will list all files under the input directory\n",
    "\n",
    "import os\n",
    "for dirname, _, filenames in os.walk('/kaggle/input'):\n",
    "    for filename in filenames:\n",
    "        print(os.path.join(dirname, filename))\n",
    "\n",
    "# You can write up to 20GB to the current directory (/kaggle/working/) that gets preserved as output when you create a version using \"Save & Run All\" \n",
    "# You can also write temporary files to /kaggle/temp/, but they won't be saved outside of the current session"
   ]
  },
  {
   "cell_type": "code",
   "execution_count": 2,
   "id": "25994fc7",
   "metadata": {
    "execution": {
     "iopub.execute_input": "2023-12-20T00:13:44.754263Z",
     "iopub.status.busy": "2023-12-20T00:13:44.753915Z",
     "iopub.status.idle": "2023-12-20T00:13:44.772777Z",
     "shell.execute_reply": "2023-12-20T00:13:44.771612Z"
    },
    "papermill": {
     "duration": 0.024111,
     "end_time": "2023-12-20T00:13:44.774816",
     "exception": false,
     "start_time": "2023-12-20T00:13:44.750705",
     "status": "completed"
    },
    "tags": []
   },
   "outputs": [],
   "source": [
    "healthcare = pd.read_csv(\"../input/healthcare/healthcare-spending.csv\", on_bad_lines='skip')"
   ]
  },
  {
   "cell_type": "code",
   "execution_count": 3,
   "id": "10330251",
   "metadata": {
    "execution": {
     "iopub.execute_input": "2023-12-20T00:13:44.781223Z",
     "iopub.status.busy": "2023-12-20T00:13:44.779882Z",
     "iopub.status.idle": "2023-12-20T00:13:44.792723Z",
     "shell.execute_reply": "2023-12-20T00:13:44.791530Z"
    },
    "papermill": {
     "duration": 0.018767,
     "end_time": "2023-12-20T00:13:44.795707",
     "exception": false,
     "start_time": "2023-12-20T00:13:44.776940",
     "status": "completed"
    },
    "tags": []
   },
   "outputs": [],
   "source": [
    "healthcare_c = pd.read_csv(\"../input/healthcare/healthcare-coverage.csv\", on_bad_lines='skip')"
   ]
  },
  {
   "cell_type": "code",
   "execution_count": 4,
   "id": "d6c5abf1",
   "metadata": {
    "execution": {
     "iopub.execute_input": "2023-12-20T00:13:44.801940Z",
     "iopub.status.busy": "2023-12-20T00:13:44.801558Z",
     "iopub.status.idle": "2023-12-20T00:13:44.828202Z",
     "shell.execute_reply": "2023-12-20T00:13:44.826736Z"
    },
    "papermill": {
     "duration": 0.032725,
     "end_time": "2023-12-20T00:13:44.830661",
     "exception": false,
     "start_time": "2023-12-20T00:13:44.797936",
     "status": "completed"
    },
    "tags": []
   },
   "outputs": [
    {
     "data": {
      "text/html": [
       "<div>\n",
       "<style scoped>\n",
       "    .dataframe tbody tr th:only-of-type {\n",
       "        vertical-align: middle;\n",
       "    }\n",
       "\n",
       "    .dataframe tbody tr th {\n",
       "        vertical-align: top;\n",
       "    }\n",
       "\n",
       "    .dataframe thead th {\n",
       "        text-align: right;\n",
       "    }\n",
       "</style>\n",
       "<table border=\"1\" class=\"dataframe\">\n",
       "  <thead>\n",
       "    <tr style=\"text-align: right;\">\n",
       "      <th></th>\n",
       "      <th>Title: Health Insurance Coverage of the Total Population | The Henry J. Kaiser Family Foundation</th>\n",
       "    </tr>\n",
       "  </thead>\n",
       "  <tbody>\n",
       "    <tr>\n",
       "      <th>0</th>\n",
       "      <td>Timeframe: 2013 - 2016</td>\n",
       "    </tr>\n",
       "    <tr>\n",
       "      <th>1</th>\n",
       "      <td>Notes</td>\n",
       "    </tr>\n",
       "    <tr>\n",
       "      <th>2</th>\n",
       "      <td>The majority of our health coverage topics are...</td>\n",
       "    </tr>\n",
       "    <tr>\n",
       "      <th>3</th>\n",
       "      <td>NaN</td>\n",
       "    </tr>\n",
       "    <tr>\n",
       "      <th>4</th>\n",
       "      <td>In this analysis, income (mostly categorized a...</td>\n",
       "    </tr>\n",
       "    <tr>\n",
       "      <th>5</th>\n",
       "      <td>NaN</td>\n",
       "    </tr>\n",
       "    <tr>\n",
       "      <th>6</th>\n",
       "      <td>Data exclude a small number of people with pri...</td>\n",
       "    </tr>\n",
       "    <tr>\n",
       "      <th>7</th>\n",
       "      <td>Sources</td>\n",
       "    </tr>\n",
       "    <tr>\n",
       "      <th>8</th>\n",
       "      <td>Kaiser Family Foundation estimates based on th...</td>\n",
       "    </tr>\n",
       "    <tr>\n",
       "      <th>9</th>\n",
       "      <td>Definitions</td>\n",
       "    </tr>\n",
       "    <tr>\n",
       "      <th>10</th>\n",
       "      <td>The ASEC asks respondents about their health i...</td>\n",
       "    </tr>\n",
       "    <tr>\n",
       "      <th>11</th>\n",
       "      <td>NaN</td>\n",
       "    </tr>\n",
       "    <tr>\n",
       "      <th>12</th>\n",
       "      <td>*Medicaid*: Includes those covered by Medicaid...</td>\n",
       "    </tr>\n",
       "    <tr>\n",
       "      <th>13</th>\n",
       "      <td>NaN</td>\n",
       "    </tr>\n",
       "    <tr>\n",
       "      <th>14</th>\n",
       "      <td>*Medicare*: Includes those covered by Medicare...</td>\n",
       "    </tr>\n",
       "    <tr>\n",
       "      <th>15</th>\n",
       "      <td>NaN</td>\n",
       "    </tr>\n",
       "    <tr>\n",
       "      <th>16</th>\n",
       "      <td>*Employer*: Includes those covered by employer...</td>\n",
       "    </tr>\n",
       "    <tr>\n",
       "      <th>17</th>\n",
       "      <td>NaN</td>\n",
       "    </tr>\n",
       "    <tr>\n",
       "      <th>18</th>\n",
       "      <td>*Other Public*: Includes those covered under t...</td>\n",
       "    </tr>\n",
       "    <tr>\n",
       "      <th>19</th>\n",
       "      <td>NaN</td>\n",
       "    </tr>\n",
       "    <tr>\n",
       "      <th>20</th>\n",
       "      <td>*Non-Group*: Includes individuals and families...</td>\n",
       "    </tr>\n",
       "    <tr>\n",
       "      <th>21</th>\n",
       "      <td>NaN</td>\n",
       "    </tr>\n",
       "    <tr>\n",
       "      <th>22</th>\n",
       "      <td>*Uninsured*: Includes those without health ins...</td>\n",
       "    </tr>\n",
       "    <tr>\n",
       "      <th>23</th>\n",
       "      <td>NaN</td>\n",
       "    </tr>\n",
       "    <tr>\n",
       "      <th>24</th>\n",
       "      <td>For example, a person having Medicaid coverage...</td>\n",
       "    </tr>\n",
       "    <tr>\n",
       "      <th>25</th>\n",
       "      <td>NaN</td>\n",
       "    </tr>\n",
       "    <tr>\n",
       "      <th>26</th>\n",
       "      <td>*N/A*: Estimates with relative standard errors...</td>\n",
       "    </tr>\n",
       "  </tbody>\n",
       "</table>\n",
       "</div>"
      ],
      "text/plain": [
       "   Title: Health Insurance Coverage of the Total Population | The Henry J. Kaiser Family Foundation\n",
       "0                              Timeframe: 2013 - 2016                                              \n",
       "1                                               Notes                                              \n",
       "2   The majority of our health coverage topics are...                                              \n",
       "3                                                 NaN                                              \n",
       "4   In this analysis, income (mostly categorized a...                                              \n",
       "5                                                 NaN                                              \n",
       "6   Data exclude a small number of people with pri...                                              \n",
       "7                                             Sources                                              \n",
       "8   Kaiser Family Foundation estimates based on th...                                              \n",
       "9                                         Definitions                                              \n",
       "10  The ASEC asks respondents about their health i...                                              \n",
       "11                                                NaN                                              \n",
       "12  *Medicaid*: Includes those covered by Medicaid...                                              \n",
       "13                                                NaN                                              \n",
       "14  *Medicare*: Includes those covered by Medicare...                                              \n",
       "15                                                NaN                                              \n",
       "16  *Employer*: Includes those covered by employer...                                              \n",
       "17                                                NaN                                              \n",
       "18  *Other Public*: Includes those covered under t...                                              \n",
       "19                                                NaN                                              \n",
       "20  *Non-Group*: Includes individuals and families...                                              \n",
       "21                                                NaN                                              \n",
       "22  *Uninsured*: Includes those without health ins...                                              \n",
       "23                                                NaN                                              \n",
       "24  For example, a person having Medicaid coverage...                                              \n",
       "25                                                NaN                                              \n",
       "26  *N/A*: Estimates with relative standard errors...                                              "
      ]
     },
     "execution_count": 4,
     "metadata": {},
     "output_type": "execute_result"
    }
   ],
   "source": [
    "healthcare_c"
   ]
  },
  {
   "cell_type": "code",
   "execution_count": 5,
   "id": "fd85c32a",
   "metadata": {
    "execution": {
     "iopub.execute_input": "2023-12-20T00:13:44.838011Z",
     "iopub.status.busy": "2023-12-20T00:13:44.836767Z",
     "iopub.status.idle": "2023-12-20T00:13:44.842235Z",
     "shell.execute_reply": "2023-12-20T00:13:44.840746Z"
    },
    "papermill": {
     "duration": 0.011729,
     "end_time": "2023-12-20T00:13:44.844840",
     "exception": false,
     "start_time": "2023-12-20T00:13:44.833111",
     "status": "completed"
    },
    "tags": []
   },
   "outputs": [],
   "source": [
    "#new version"
   ]
  }
 ],
 "metadata": {
  "kaggle": {
   "accelerator": "none",
   "dataSources": [
    {
     "datasetId": 1760404,
     "sourceId": 2874375,
     "sourceType": "datasetVersion"
    }
   ],
   "dockerImageVersionId": 30497,
   "isGpuEnabled": false,
   "isInternetEnabled": true,
   "language": "python",
   "sourceType": "notebook"
  },
  "kernelspec": {
   "display_name": "Python 3",
   "language": "python",
   "name": "python3"
  },
  "language_info": {
   "codemirror_mode": {
    "name": "ipython",
    "version": 3
   },
   "file_extension": ".py",
   "mimetype": "text/x-python",
   "name": "python",
   "nbconvert_exporter": "python",
   "pygments_lexer": "ipython3",
   "version": "3.10.10"
  },
  "papermill": {
   "default_parameters": {},
   "duration": 12.618431,
   "end_time": "2023-12-20T00:13:45.670399",
   "environment_variables": {},
   "exception": null,
   "input_path": "__notebook__.ipynb",
   "output_path": "__notebook__.ipynb",
   "parameters": {},
   "start_time": "2023-12-20T00:13:33.051968",
   "version": "2.4.0"
  }
 },
 "nbformat": 4,
 "nbformat_minor": 5
}
