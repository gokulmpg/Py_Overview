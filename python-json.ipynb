{
 "cells": [
  {
   "cell_type": "code",
   "execution_count": 1,
   "id": "2e90bb3a",
   "metadata": {
    "_cell_guid": "b1076dfc-b9ad-4769-8c92-a6c4dae69d19",
    "_uuid": "8f2839f25d086af736a60e9eeb907d3b93b6e0e5",
    "execution": {
     "iopub.execute_input": "2023-06-30T04:01:47.649570Z",
     "iopub.status.busy": "2023-06-30T04:01:47.648647Z",
     "iopub.status.idle": "2023-06-30T04:01:47.710351Z",
     "shell.execute_reply": "2023-06-30T04:01:47.708898Z"
    },
    "papermill": {
     "duration": 0.070217,
     "end_time": "2023-06-30T04:01:47.714043",
     "exception": false,
     "start_time": "2023-06-30T04:01:47.643826",
     "status": "completed"
    },
    "tags": []
   },
   "outputs": [
    {
     "name": "stdout",
     "output_type": "stream",
     "text": [
      "/kaggle/input/starbucks-nutrition-facts-and-analysis/__results__.html\n",
      "/kaggle/input/starbucks-nutrition-facts-and-analysis/neighbourhood.png\n",
      "/kaggle/input/starbucks-nutrition-facts-and-analysis/__notebook__.ipynb\n",
      "/kaggle/input/starbucks-nutrition-facts-and-analysis/__output__.json\n",
      "/kaggle/input/starbucks-nutrition-facts-and-analysis/custom.css\n",
      "/kaggle/input/starbucks-nutrition-facts-and-analysis/__results___files/__results___55_1.png\n",
      "/kaggle/input/starbucks-nutrition-facts-and-analysis/__results___files/__results___40_0.png\n",
      "/kaggle/input/starbucks-nutrition-facts-and-analysis/__results___files/__results___60_1.png\n",
      "/kaggle/input/starbucks-nutrition-facts-and-analysis/__results___files/__results___54_1.png\n",
      "/kaggle/input/starbucks-nutrition-facts-and-analysis/__results___files/__results___51_1.png\n",
      "/kaggle/input/starbucks-nutrition-facts-and-analysis/__results___files/__results___66_0.png\n",
      "/kaggle/input/starbucks-nutrition-facts-and-analysis/__results___files/__results___56_1.png\n",
      "/kaggle/input/starbucks-nutrition-facts-and-analysis/__results___files/__results___68_1.png\n",
      "/kaggle/input/starbucks-nutrition-facts-and-analysis/__results___files/__results___63_0.png\n",
      "/kaggle/input/starbucks-nutrition-facts-and-analysis/__results___files/__results___69_1.png\n",
      "/kaggle/input/starbucks-nutrition-facts-and-analysis/__results___files/__results___57_1.png\n",
      "/kaggle/input/starbucks-nutrition-facts-and-analysis/__results___files/__results___29_0.png\n",
      "/kaggle/input/starbucks-nutrition-facts-and-analysis/__results___files/__results___76_1.png\n",
      "/kaggle/input/starbucks-nutrition-facts-and-analysis/__results___files/__results___32_0.png\n",
      "/kaggle/input/starbucks-nutrition-facts-and-analysis/__results___files/__results___36_1.png\n",
      "/kaggle/input/starbucks-nutrition-facts-and-analysis/__results___files/__results___48_0.png\n",
      "/kaggle/input/starbucks-nutrition-facts-and-analysis/__results___files/__results___24_1.png\n",
      "/kaggle/input/starbucks-nutrition-facts-and-analysis/__results___files/__results___44_1.png\n",
      "/kaggle/input/zomato-data-analysis-nct-india/x3.html\n",
      "/kaggle/input/zomato-data-analysis-nct-india/delhi_map.html\n",
      "/kaggle/input/zomato-data-analysis-nct-india/cuisine_map.html\n",
      "/kaggle/input/zomato-data-analysis-nct-india/x5.html\n",
      "/kaggle/input/zomato-data-analysis-nct-india/x8.html\n",
      "/kaggle/input/zomato-data-analysis-nct-india/Rplot001.png\n",
      "/kaggle/input/zomato-data-analysis-nct-india/p2.html\n",
      "/kaggle/input/zomato-data-analysis-nct-india/Rplot002.png\n",
      "/kaggle/input/zomato-data-analysis-nct-india/__results__.html\n",
      "/kaggle/input/zomato-data-analysis-nct-india/x.html\n",
      "/kaggle/input/zomato-data-analysis-nct-india/cost_map.html\n",
      "/kaggle/input/zomato-data-analysis-nct-india/del.html\n",
      "/kaggle/input/zomato-data-analysis-nct-india/gur.html\n",
      "/kaggle/input/zomato-data-analysis-nct-india/noid.html\n",
      "/kaggle/input/zomato-data-analysis-nct-india/y.html\n",
      "/kaggle/input/zomato-data-analysis-nct-india/x6.html\n",
      "/kaggle/input/zomato-data-analysis-nct-india/x1.html\n",
      "/kaggle/input/zomato-data-analysis-nct-india/x4.html\n",
      "/kaggle/input/zomato-data-analysis-nct-india/x2.html\n",
      "/kaggle/input/zomato-data-analysis-nct-india/z.html\n",
      "/kaggle/input/zomato-data-analysis-nct-india/zomato_map.html\n",
      "/kaggle/input/zomato-data-analysis-nct-india/__output__.json\n",
      "/kaggle/input/zomato-data-analysis-nct-india/prop.html\n",
      "/kaggle/input/zomato-data-analysis-nct-india/x7.html\n",
      "/kaggle/input/zomato-data-analysis-nct-india/Rplot003.png\n",
      "/kaggle/input/zomato-data-analysis-nct-india/custom.css\n",
      "/kaggle/input/zomato-data-analysis-nct-india/__results___files/__results___20_1.png\n",
      "/kaggle/input/zomato-data-analysis-nct-india/__results___files/__results___49_7.png\n",
      "/kaggle/input/zomato-data-analysis-nct-india/__results___files/__results___37_1.png\n",
      "/kaggle/input/zomato-data-analysis-nct-india/__results___files/__results___54_2.png\n",
      "/kaggle/input/zomato-data-analysis-nct-india/__results___files/__results___30_1.png\n",
      "/kaggle/input/zomato-data-analysis-nct-india/__results___files/__results___54_4.png\n",
      "/kaggle/input/zomato-data-analysis-nct-india/__results___files/__results___13_1.png\n",
      "/kaggle/input/zomato-data-analysis-nct-india/__results___files/__results___52_1.png\n",
      "/kaggle/input/zomato-data-analysis-nct-india/__results___files/__results___46_3.png\n",
      "/kaggle/input/zomato-data-analysis-nct-india/__results___files/__results___46_2.png\n",
      "/kaggle/input/zomato-data-analysis-nct-india/__results___files/__results___54_5.png\n",
      "/kaggle/input/zomato-data-analysis-nct-india/__results___files/__results___35_1.png\n",
      "/kaggle/input/zomato-data-analysis-nct-india/__results___files/__results___49_6.png\n",
      "/kaggle/input/let-s-understand-nlp-word-and-document-vectors/logs.log\n",
      "/kaggle/input/let-s-understand-nlp-word-and-document-vectors/__results__.html\n",
      "/kaggle/input/let-s-understand-nlp-word-and-document-vectors/__notebook__.ipynb\n",
      "/kaggle/input/let-s-understand-nlp-word-and-document-vectors/__output__.json\n",
      "/kaggle/input/let-s-understand-nlp-word-and-document-vectors/custom.css\n",
      "/kaggle/input/let-s-understand-nlp-word-and-document-vectors/__results___files/__results___65_0.png\n",
      "/kaggle/input/let-s-understand-nlp-word-and-document-vectors/__results___files/__results___67_0.png\n",
      "/kaggle/input/let-s-understand-nlp-word-and-document-vectors/__results___files/__results___66_0.png\n",
      "/kaggle/input/let-s-understand-nlp-word-and-document-vectors/__results___files/__results___56_0.png\n",
      "/kaggle/input/let-s-understand-nlp-word-and-document-vectors/__results___files/__results___68_0.png\n",
      "/kaggle/input/let-s-understand-nlp-word-and-document-vectors/__results___files/__results___34_1.png\n",
      "/kaggle/input/let-s-understand-nlp-word-and-document-vectors/__results___files/__results___35_1.png\n",
      "/kaggle/input/let-s-understand-nlp-word-and-document-vectors/__results___files/__results___22_1.png\n",
      "/kaggle/input/let-s-understand-nlp-word-and-document-vectors/catboost_info/learn_error.tsv\n",
      "/kaggle/input/let-s-understand-nlp-word-and-document-vectors/catboost_info/catboost_training.json\n",
      "/kaggle/input/let-s-understand-nlp-word-and-document-vectors/catboost_info/time_left.tsv\n",
      "/kaggle/input/let-s-understand-nlp-word-and-document-vectors/catboost_info/learn/events.out.tfevents\n"
     ]
    }
   ],
   "source": [
    "# This Python 3 environment comes with many helpful analytics libraries installed\n",
    "# It is defined by the kaggle/python Docker image: https://github.com/kaggle/docker-python\n",
    "# For example, here's several helpful packages to load\n",
    "\n",
    "import numpy as np # linear algebra\n",
    "import pandas as pd # data processing, CSV file I/O (e.g. pd.read_csv)\n",
    "\n",
    "# Input data files are available in the read-only \"../input/\" directory\n",
    "# For example, running this (by clicking run or pressing Shift+Enter) will list all files under the input directory\n",
    "\n",
    "import os\n",
    "for dirname, _, filenames in os.walk('/kaggle/input'):\n",
    "    for filename in filenames:\n",
    "        print(os.path.join(dirname, filename))\n",
    "\n",
    "# You can write up to 20GB to the current directory (/kaggle/working/) that gets preserved as output when you create a version using \"Save & Run All\" \n",
    "# You can also write temporary files to /kaggle/temp/, but they won't be saved outside of the current session"
   ]
  },
  {
   "cell_type": "code",
   "execution_count": 2,
   "id": "d6e2d3d0",
   "metadata": {
    "execution": {
     "iopub.execute_input": "2023-06-30T04:01:47.722886Z",
     "iopub.status.busy": "2023-06-30T04:01:47.722218Z",
     "iopub.status.idle": "2023-06-30T04:01:47.727175Z",
     "shell.execute_reply": "2023-06-30T04:01:47.725962Z"
    },
    "papermill": {
     "duration": 0.012217,
     "end_time": "2023-06-30T04:01:47.729657",
     "exception": false,
     "start_time": "2023-06-30T04:01:47.717440",
     "status": "completed"
    },
    "tags": []
   },
   "outputs": [],
   "source": [
    "#santy =  read.json../input/zomato-data-analysis-nct-india/__output__.json"
   ]
  },
  {
   "cell_type": "code",
   "execution_count": 3,
   "id": "6863f8d7",
   "metadata": {
    "execution": {
     "iopub.execute_input": "2023-06-30T04:01:47.737770Z",
     "iopub.status.busy": "2023-06-30T04:01:47.737336Z",
     "iopub.status.idle": "2023-06-30T04:01:47.745823Z",
     "shell.execute_reply": "2023-06-30T04:01:47.744833Z"
    },
    "papermill": {
     "duration": 0.01546,
     "end_time": "2023-06-30T04:01:47.748217",
     "exception": false,
     "start_time": "2023-06-30T04:01:47.732757",
     "status": "completed"
    },
    "tags": []
   },
   "outputs": [
    {
     "name": "stdout",
     "output_type": "stream",
     "text": [
      "[{'data': '[NbConvertApp] Converting notebook script.irnb to html\\n', 'stream_name': 'stderr', 'time': 0.7727796318940818}, {'data': '[NbConvertApp] Executing notebook with kernel: ir\\n', 'stream_name': 'stderr', 'time': 0.8784205541014671}, {'data': '/usr/local/lib/python2.7/dist-packages/nbconvert/filters/datatypefilter.py:41: UserWarning: Your element with mimetype(s) [] is not able to be represented.\\n  mimetypes=output.keys())\\n', 'stream_name': 'stderr', 'time': 37.741311992984265}, {'data': '[NbConvertApp] Support files will be in __results___files/\\n[NbConvertApp] Making directory __results___files\\n', 'stream_name': 'stderr', 'time': 37.85738821094856}, {'data': '[NbConvertApp] Making directory __results___files\\n[NbConvertApp] Making directory __results___files\\n[NbConvertApp] Making directory __results___files\\n[NbConvertApp] Making directory __results___files\\n[NbConvertApp] Making directory __results___files\\n[NbConvertApp] Making directory __results___files\\n[NbConvertApp] Making directory __results___files\\n[NbConvertApp] Making directory __results___files\\n[NbConvertApp] Making directory __results___files\\n[NbConvertApp] Making directory __results___files\\n[NbConvertApp] Making directory __results___files\\n[NbConvertApp] Making directory __results___files\\n[NbConvertApp] Writing 463449 bytes to __results__.html\\n', 'stream_name': 'stderr', 'time': 37.89347889088094}]\n"
     ]
    }
   ],
   "source": [
    "\n",
    "import json\n",
    "\n",
    "with open('../input/zomato-data-analysis-nct-india/__output__.json', 'r') as f:\n",
    "  data = json.load(f)\n",
    "\n",
    "# Output: {'name': 'Bob', 'languages': ['English', 'French']}\n",
    "print(data)"
   ]
  },
  {
   "cell_type": "code",
   "execution_count": 4,
   "id": "0df9f192",
   "metadata": {
    "execution": {
     "iopub.execute_input": "2023-06-30T04:01:47.756896Z",
     "iopub.status.busy": "2023-06-30T04:01:47.756151Z",
     "iopub.status.idle": "2023-06-30T04:01:47.764057Z",
     "shell.execute_reply": "2023-06-30T04:01:47.763143Z"
    },
    "papermill": {
     "duration": 0.014978,
     "end_time": "2023-06-30T04:01:47.766401",
     "exception": false,
     "start_time": "2023-06-30T04:01:47.751423",
     "status": "completed"
    },
    "tags": []
   },
   "outputs": [
    {
     "data": {
      "text/plain": [
       "[{'data': '[NbConvertApp] Converting notebook script.irnb to html\\n',\n",
       "  'stream_name': 'stderr',\n",
       "  'time': 0.7727796318940818},\n",
       " {'data': '[NbConvertApp] Executing notebook with kernel: ir\\n',\n",
       "  'stream_name': 'stderr',\n",
       "  'time': 0.8784205541014671},\n",
       " {'data': '/usr/local/lib/python2.7/dist-packages/nbconvert/filters/datatypefilter.py:41: UserWarning: Your element with mimetype(s) [] is not able to be represented.\\n  mimetypes=output.keys())\\n',\n",
       "  'stream_name': 'stderr',\n",
       "  'time': 37.741311992984265},\n",
       " {'data': '[NbConvertApp] Support files will be in __results___files/\\n[NbConvertApp] Making directory __results___files\\n',\n",
       "  'stream_name': 'stderr',\n",
       "  'time': 37.85738821094856},\n",
       " {'data': '[NbConvertApp] Making directory __results___files\\n[NbConvertApp] Making directory __results___files\\n[NbConvertApp] Making directory __results___files\\n[NbConvertApp] Making directory __results___files\\n[NbConvertApp] Making directory __results___files\\n[NbConvertApp] Making directory __results___files\\n[NbConvertApp] Making directory __results___files\\n[NbConvertApp] Making directory __results___files\\n[NbConvertApp] Making directory __results___files\\n[NbConvertApp] Making directory __results___files\\n[NbConvertApp] Making directory __results___files\\n[NbConvertApp] Making directory __results___files\\n[NbConvertApp] Writing 463449 bytes to __results__.html\\n',\n",
       "  'stream_name': 'stderr',\n",
       "  'time': 37.89347889088094}]"
      ]
     },
     "execution_count": 4,
     "metadata": {},
     "output_type": "execute_result"
    }
   ],
   "source": [
    "data"
   ]
  },
  {
   "cell_type": "code",
   "execution_count": null,
   "id": "311d53ed",
   "metadata": {
    "papermill": {
     "duration": 0.003104,
     "end_time": "2023-06-30T04:01:47.772872",
     "exception": false,
     "start_time": "2023-06-30T04:01:47.769768",
     "status": "completed"
    },
    "tags": []
   },
   "outputs": [],
   "source": []
  }
 ],
 "metadata": {
  "kernelspec": {
   "display_name": "Python 3",
   "language": "python",
   "name": "python3"
  },
  "language_info": {
   "codemirror_mode": {
    "name": "ipython",
    "version": 3
   },
   "file_extension": ".py",
   "mimetype": "text/x-python",
   "name": "python",
   "nbconvert_exporter": "python",
   "pygments_lexer": "ipython3",
   "version": "3.10.10"
  },
  "papermill": {
   "default_parameters": {},
   "duration": 14.828314,
   "end_time": "2023-06-30T04:01:48.698004",
   "environment_variables": {},
   "exception": null,
   "input_path": "__notebook__.ipynb",
   "output_path": "__notebook__.ipynb",
   "parameters": {},
   "start_time": "2023-06-30T04:01:33.869690",
   "version": "2.4.0"
  }
 },
 "nbformat": 4,
 "nbformat_minor": 5
}
