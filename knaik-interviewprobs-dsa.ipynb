{
 "cells": [
  {
   "cell_type": "code",
   "execution_count": 1,
   "id": "bcf95475",
   "metadata": {
    "_cell_guid": "b1076dfc-b9ad-4769-8c92-a6c4dae69d19",
    "_uuid": "8f2839f25d086af736a60e9eeb907d3b93b6e0e5",
    "execution": {
     "iopub.execute_input": "2024-02-06T18:42:06.314683Z",
     "iopub.status.busy": "2024-02-06T18:42:06.313965Z",
     "iopub.status.idle": "2024-02-06T18:42:07.337906Z",
     "shell.execute_reply": "2024-02-06T18:42:07.336663Z"
    },
    "papermill": {
     "duration": 1.033712,
     "end_time": "2024-02-06T18:42:07.340696",
     "exception": false,
     "start_time": "2024-02-06T18:42:06.306984",
     "status": "completed"
    },
    "tags": []
   },
   "outputs": [],
   "source": [
    "# This Python 3 environment comes with many helpful analytics libraries installed\n",
    "# It is defined by the kaggle/python Docker image: https://github.com/kaggle/docker-python\n",
    "# For example, here's several helpful packages to load\n",
    "\n",
    "import numpy as np # linear algebra\n",
    "import pandas as pd # data processing, CSV file I/O (e.g. pd.read_csv)\n",
    "\n",
    "# Input data files are available in the read-only \"../input/\" directory\n",
    "# For example, running this (by clicking run or pressing Shift+Enter) will list all files under the input directory\n",
    "\n",
    "import os\n",
    "for dirname, _, filenames in os.walk('/kaggle/input'):\n",
    "    for filename in filenames:\n",
    "        print(os.path.join(dirname, filename))\n",
    "\n",
    "# You can write up to 20GB to the current directory (/kaggle/working/) that gets preserved as output when you create a version using \"Save & Run All\" \n",
    "# You can also write temporary files to /kaggle/temp/, but they won't be saved outside of the current session"
   ]
  },
  {
   "cell_type": "markdown",
   "id": "3c301be2",
   "metadata": {
    "papermill": {
     "duration": 0.003825,
     "end_time": "2024-02-06T18:42:07.349151",
     "exception": false,
     "start_time": "2024-02-06T18:42:07.345326",
     "status": "completed"
    },
    "tags": []
   },
   "source": [
    "#### Buy and sell stocks"
   ]
  },
  {
   "cell_type": "code",
   "execution_count": 2,
   "id": "ce778a3f",
   "metadata": {
    "execution": {
     "iopub.execute_input": "2024-02-06T18:42:07.359370Z",
     "iopub.status.busy": "2024-02-06T18:42:07.358730Z",
     "iopub.status.idle": "2024-02-06T18:42:07.366130Z",
     "shell.execute_reply": "2024-02-06T18:42:07.364787Z"
    },
    "papermill": {
     "duration": 0.015416,
     "end_time": "2024-02-06T18:42:07.368653",
     "exception": false,
     "start_time": "2024-02-06T18:42:07.353237",
     "status": "completed"
    },
    "tags": []
   },
   "outputs": [],
   "source": [
    "####   BRUTE FORCE  ####\n",
    "\n",
    "def findmaxProfit(price):\n",
    "    min_price = float('inf')\n",
    "    max_profit = 0\n",
    "    \n",
    "    for i in range(len(price)):\n",
    "        if price[i]< min_price:\n",
    "            min_price = price[i]\n",
    "        elif price[i] - min_price > max_profit:\n",
    "            max_profit = prices[i] - min_price\n",
    "    return max_profit"
   ]
  },
  {
   "cell_type": "code",
   "execution_count": 3,
   "id": "dfa48d1e",
   "metadata": {
    "execution": {
     "iopub.execute_input": "2024-02-06T18:42:07.379857Z",
     "iopub.status.busy": "2024-02-06T18:42:07.379405Z",
     "iopub.status.idle": "2024-02-06T18:42:07.385333Z",
     "shell.execute_reply": "2024-02-06T18:42:07.384220Z"
    },
    "papermill": {
     "duration": 0.01403,
     "end_time": "2024-02-06T18:42:07.387826",
     "exception": false,
     "start_time": "2024-02-06T18:42:07.373796",
     "status": "completed"
    },
    "tags": []
   },
   "outputs": [],
   "source": [
    "prices = [78,23,23,12,9,56,43,11,111,11,11,11,11]"
   ]
  },
  {
   "cell_type": "code",
   "execution_count": 4,
   "id": "73c74669",
   "metadata": {
    "execution": {
     "iopub.execute_input": "2024-02-06T18:42:07.399265Z",
     "iopub.status.busy": "2024-02-06T18:42:07.398166Z",
     "iopub.status.idle": "2024-02-06T18:42:07.407289Z",
     "shell.execute_reply": "2024-02-06T18:42:07.406066Z"
    },
    "papermill": {
     "duration": 0.017419,
     "end_time": "2024-02-06T18:42:07.409636",
     "exception": false,
     "start_time": "2024-02-06T18:42:07.392217",
     "status": "completed"
    },
    "tags": []
   },
   "outputs": [
    {
     "data": {
      "text/plain": [
       "102"
      ]
     },
     "execution_count": 4,
     "metadata": {},
     "output_type": "execute_result"
    }
   ],
   "source": [
    "findmaxProfit(prices)"
   ]
  },
  {
   "cell_type": "markdown",
   "id": "3b03f8c6",
   "metadata": {
    "papermill": {
     "duration": 0.004108,
     "end_time": "2024-02-06T18:42:07.418149",
     "exception": false,
     "start_time": "2024-02-06T18:42:07.414041",
     "status": "completed"
    },
    "tags": []
   },
   "source": []
  },
  {
   "cell_type": "code",
   "execution_count": 5,
   "id": "09217189",
   "metadata": {
    "execution": {
     "iopub.execute_input": "2024-02-06T18:42:07.429864Z",
     "iopub.status.busy": "2024-02-06T18:42:07.429111Z",
     "iopub.status.idle": "2024-02-06T18:42:07.438860Z",
     "shell.execute_reply": "2024-02-06T18:42:07.437833Z"
    },
    "papermill": {
     "duration": 0.018487,
     "end_time": "2024-02-06T18:42:07.441393",
     "exception": false,
     "start_time": "2024-02-06T18:42:07.422906",
     "status": "completed"
    },
    "tags": []
   },
   "outputs": [],
   "source": [
    "\n",
    "####   DIVIDE AND CONQUER  ####\n",
    "\n",
    "\n",
    "def findMAXMIN(arr, i , j):\n",
    "    \n",
    "    if i == j:\n",
    "        max_val = arr[i]\n",
    "        min_val = arr[i]\n",
    "        \n",
    "    elif i == j - 1:\n",
    "        if arr[i] < arr[j]:\n",
    "            max_val = arr[j]\n",
    "            min_val = arr[i]\n",
    "        else:\n",
    "            max_val = arr[i]\n",
    "            min_val = arr[j]\n",
    "            \n",
    "    else:\n",
    "        mid = i + (j-i)//2\n",
    "        \n",
    "        max_l,min_l = findMAXMIN(arr, i , mid)\n",
    "        max_r, min_r = findMAXMIN(arr, mid+1 , j)\n",
    "        \n",
    "        if min_l < min_r:\n",
    "            min_val  = min_r\n",
    "        else:\n",
    "            min_val = min_l\n",
    "            \n",
    "        if max_l < max_r:\n",
    "            max_val = max_r\n",
    "            \n",
    "        else:\n",
    "            max_val = min_r\n",
    "    return max_val,min_val\n",
    "        \n",
    "            \n",
    "            \n",
    "            \n",
    "            \n",
    "\n",
    "\n"
   ]
  },
  {
   "cell_type": "code",
   "execution_count": 6,
   "id": "ac82bc21",
   "metadata": {
    "execution": {
     "iopub.execute_input": "2024-02-06T18:42:07.452646Z",
     "iopub.status.busy": "2024-02-06T18:42:07.451907Z",
     "iopub.status.idle": "2024-02-06T18:42:07.458460Z",
     "shell.execute_reply": "2024-02-06T18:42:07.457592Z"
    },
    "papermill": {
     "duration": 0.015333,
     "end_time": "2024-02-06T18:42:07.461100",
     "exception": false,
     "start_time": "2024-02-06T18:42:07.445767",
     "status": "completed"
    },
    "tags": []
   },
   "outputs": [],
   "source": [
    "#### DIVIDE AND CONQUER  ####\n",
    "\n",
    "\n",
    "def findPower(a,n):\n",
    "    if n ==1:\n",
    "        return a\n",
    "    else:\n",
    "        mid = n//2\n",
    "        b = findPower(a,mid)\n",
    "        result = b* b\n",
    "        if n% 2 == 0:\n",
    "            return result\n",
    "        else:\n",
    "            return result* a"
   ]
  },
  {
   "cell_type": "code",
   "execution_count": 7,
   "id": "1172bbd5",
   "metadata": {
    "execution": {
     "iopub.execute_input": "2024-02-06T18:42:07.471947Z",
     "iopub.status.busy": "2024-02-06T18:42:07.471506Z",
     "iopub.status.idle": "2024-02-06T18:42:07.478642Z",
     "shell.execute_reply": "2024-02-06T18:42:07.477365Z"
    },
    "papermill": {
     "duration": 0.015481,
     "end_time": "2024-02-06T18:42:07.480932",
     "exception": false,
     "start_time": "2024-02-06T18:42:07.465451",
     "status": "completed"
    },
    "tags": []
   },
   "outputs": [
    {
     "data": {
      "text/plain": [
       "49"
      ]
     },
     "execution_count": 7,
     "metadata": {},
     "output_type": "execute_result"
    }
   ],
   "source": [
    "findPower(7,2)"
   ]
  },
  {
   "cell_type": "code",
   "execution_count": null,
   "id": "ac79077f",
   "metadata": {
    "papermill": {
     "duration": 0.004134,
     "end_time": "2024-02-06T18:42:07.489484",
     "exception": false,
     "start_time": "2024-02-06T18:42:07.485350",
     "status": "completed"
    },
    "tags": []
   },
   "outputs": [],
   "source": []
  }
 ],
 "metadata": {
  "kaggle": {
   "accelerator": "none",
   "dataSources": [],
   "dockerImageVersionId": 30646,
   "isGpuEnabled": false,
   "isInternetEnabled": true,
   "language": "python",
   "sourceType": "notebook"
  },
  "kernelspec": {
   "display_name": "Python 3",
   "language": "python",
   "name": "python3"
  },
  "language_info": {
   "codemirror_mode": {
    "name": "ipython",
    "version": 3
   },
   "file_extension": ".py",
   "mimetype": "text/x-python",
   "name": "python",
   "nbconvert_exporter": "python",
   "pygments_lexer": "ipython3",
   "version": "3.10.13"
  },
  "papermill": {
   "default_parameters": {},
   "duration": 5.115137,
   "end_time": "2024-02-06T18:42:08.216459",
   "environment_variables": {},
   "exception": null,
   "input_path": "__notebook__.ipynb",
   "output_path": "__notebook__.ipynb",
   "parameters": {},
   "start_time": "2024-02-06T18:42:03.101322",
   "version": "2.5.0"
  }
 },
 "nbformat": 4,
 "nbformat_minor": 5
}
