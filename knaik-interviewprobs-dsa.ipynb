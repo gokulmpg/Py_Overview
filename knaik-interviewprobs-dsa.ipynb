{
 "cells": [
  {
   "cell_type": "code",
   "execution_count": 1,
   "id": "dd572753",
   "metadata": {
    "_cell_guid": "b1076dfc-b9ad-4769-8c92-a6c4dae69d19",
    "_uuid": "8f2839f25d086af736a60e9eeb907d3b93b6e0e5",
    "execution": {
     "iopub.execute_input": "2024-02-06T18:32:31.793942Z",
     "iopub.status.busy": "2024-02-06T18:32:31.793560Z",
     "iopub.status.idle": "2024-02-06T18:32:32.576445Z",
     "shell.execute_reply": "2024-02-06T18:32:32.575618Z"
    },
    "papermill": {
     "duration": 0.790289,
     "end_time": "2024-02-06T18:32:32.578834",
     "exception": false,
     "start_time": "2024-02-06T18:32:31.788545",
     "status": "completed"
    },
    "tags": []
   },
   "outputs": [],
   "source": [
    "# This Python 3 environment comes with many helpful analytics libraries installed\n",
    "# It is defined by the kaggle/python Docker image: https://github.com/kaggle/docker-python\n",
    "# For example, here's several helpful packages to load\n",
    "\n",
    "import numpy as np # linear algebra\n",
    "import pandas as pd # data processing, CSV file I/O (e.g. pd.read_csv)\n",
    "\n",
    "# Input data files are available in the read-only \"../input/\" directory\n",
    "# For example, running this (by clicking run or pressing Shift+Enter) will list all files under the input directory\n",
    "\n",
    "import os\n",
    "for dirname, _, filenames in os.walk('/kaggle/input'):\n",
    "    for filename in filenames:\n",
    "        print(os.path.join(dirname, filename))\n",
    "\n",
    "# You can write up to 20GB to the current directory (/kaggle/working/) that gets preserved as output when you create a version using \"Save & Run All\" \n",
    "# You can also write temporary files to /kaggle/temp/, but they won't be saved outside of the current session"
   ]
  },
  {
   "cell_type": "markdown",
   "id": "c39c09b8",
   "metadata": {
    "papermill": {
     "duration": 0.002525,
     "end_time": "2024-02-06T18:32:32.584549",
     "exception": false,
     "start_time": "2024-02-06T18:32:32.582024",
     "status": "completed"
    },
    "tags": []
   },
   "source": [
    "#### Buy and sell stocks"
   ]
  },
  {
   "cell_type": "code",
   "execution_count": 2,
   "id": "810f5390",
   "metadata": {
    "execution": {
     "iopub.execute_input": "2024-02-06T18:32:32.591769Z",
     "iopub.status.busy": "2024-02-06T18:32:32.590963Z",
     "iopub.status.idle": "2024-02-06T18:32:32.597044Z",
     "shell.execute_reply": "2024-02-06T18:32:32.596031Z"
    },
    "papermill": {
     "duration": 0.011957,
     "end_time": "2024-02-06T18:32:32.599133",
     "exception": false,
     "start_time": "2024-02-06T18:32:32.587176",
     "status": "completed"
    },
    "tags": []
   },
   "outputs": [],
   "source": [
    "####   BRUTE FORCE  ####\n",
    "\n",
    "def findmaxProfit(price):\n",
    "    min_price = float('inf')\n",
    "    max_profit = 0\n",
    "    \n",
    "    for i in range(len(price)):\n",
    "        if price[i]< min_price:\n",
    "            min_price = price[i]\n",
    "        elif price[i] - min_price > max_profit:\n",
    "            max_profit = prices[i] - min_price\n",
    "    return max_profit"
   ]
  },
  {
   "cell_type": "code",
   "execution_count": 3,
   "id": "6a92a3c2",
   "metadata": {
    "execution": {
     "iopub.execute_input": "2024-02-06T18:32:32.606022Z",
     "iopub.status.busy": "2024-02-06T18:32:32.605667Z",
     "iopub.status.idle": "2024-02-06T18:32:32.610087Z",
     "shell.execute_reply": "2024-02-06T18:32:32.609106Z"
    },
    "papermill": {
     "duration": 0.010297,
     "end_time": "2024-02-06T18:32:32.612204",
     "exception": false,
     "start_time": "2024-02-06T18:32:32.601907",
     "status": "completed"
    },
    "tags": []
   },
   "outputs": [],
   "source": [
    "prices = [78,23,23,12,9,56,43,11,111,11,11,11,11]"
   ]
  },
  {
   "cell_type": "code",
   "execution_count": 4,
   "id": "2c5bffca",
   "metadata": {
    "execution": {
     "iopub.execute_input": "2024-02-06T18:32:32.619069Z",
     "iopub.status.busy": "2024-02-06T18:32:32.618748Z",
     "iopub.status.idle": "2024-02-06T18:32:32.626407Z",
     "shell.execute_reply": "2024-02-06T18:32:32.625384Z"
    },
    "papermill": {
     "duration": 0.013605,
     "end_time": "2024-02-06T18:32:32.628495",
     "exception": false,
     "start_time": "2024-02-06T18:32:32.614890",
     "status": "completed"
    },
    "tags": []
   },
   "outputs": [
    {
     "data": {
      "text/plain": [
       "102"
      ]
     },
     "execution_count": 4,
     "metadata": {},
     "output_type": "execute_result"
    }
   ],
   "source": [
    "findmaxProfit(prices)"
   ]
  },
  {
   "cell_type": "markdown",
   "id": "26dc3020",
   "metadata": {
    "papermill": {
     "duration": 0.002559,
     "end_time": "2024-02-06T18:32:32.633921",
     "exception": false,
     "start_time": "2024-02-06T18:32:32.631362",
     "status": "completed"
    },
    "tags": []
   },
   "source": []
  },
  {
   "cell_type": "code",
   "execution_count": 5,
   "id": "726bd6ef",
   "metadata": {
    "execution": {
     "iopub.execute_input": "2024-02-06T18:32:32.642102Z",
     "iopub.status.busy": "2024-02-06T18:32:32.641298Z",
     "iopub.status.idle": "2024-02-06T18:32:32.648941Z",
     "shell.execute_reply": "2024-02-06T18:32:32.648208Z"
    },
    "papermill": {
     "duration": 0.014342,
     "end_time": "2024-02-06T18:32:32.650996",
     "exception": false,
     "start_time": "2024-02-06T18:32:32.636654",
     "status": "completed"
    },
    "tags": []
   },
   "outputs": [],
   "source": [
    "\n",
    "####   DIVIDE AND CONQUER  ####\n",
    "\n",
    "\n",
    "def findMAXMIN(arr, i , j):\n",
    "    \n",
    "    if i == j:\n",
    "        max_val = arr[i]\n",
    "        min_val = arr[i]\n",
    "        \n",
    "    elif i == j - 1:\n",
    "        if arr[i] < arr[j]:\n",
    "            max_val = arr[j]\n",
    "            min_val = arr[i]\n",
    "        else:\n",
    "            max_val = arr[i]\n",
    "            min_val = arr[j]\n",
    "            \n",
    "    else:\n",
    "        mid = i + (j-i)//2\n",
    "        \n",
    "        max_l,min_l = findMAXMIN(arr, i , mid)\n",
    "        max_r, min_r = findMAXMIN(arr, mid+1 , j)\n",
    "        \n",
    "        if min_l < min_r:\n",
    "            min_val  = min_r\n",
    "        else:\n",
    "            min_val = min_l\n",
    "            \n",
    "        if max_l < max_r:\n",
    "            max_val = max_r\n",
    "            \n",
    "        else:\n",
    "            max_val = min_r\n",
    "    return max_val,min_val\n",
    "        \n",
    "            \n",
    "            \n",
    "            \n",
    "            \n",
    "\n",
    "\n"
   ]
  },
  {
   "cell_type": "code",
   "execution_count": null,
   "id": "3625bc74",
   "metadata": {
    "papermill": {
     "duration": 0.002685,
     "end_time": "2024-02-06T18:32:32.656625",
     "exception": false,
     "start_time": "2024-02-06T18:32:32.653940",
     "status": "completed"
    },
    "tags": []
   },
   "outputs": [],
   "source": []
  },
  {
   "cell_type": "code",
   "execution_count": null,
   "id": "37e885ab",
   "metadata": {
    "papermill": {
     "duration": 0.002482,
     "end_time": "2024-02-06T18:32:32.661848",
     "exception": false,
     "start_time": "2024-02-06T18:32:32.659366",
     "status": "completed"
    },
    "tags": []
   },
   "outputs": [],
   "source": []
  }
 ],
 "metadata": {
  "kaggle": {
   "accelerator": "none",
   "dataSources": [],
   "dockerImageVersionId": 30646,
   "isGpuEnabled": false,
   "isInternetEnabled": true,
   "language": "python",
   "sourceType": "notebook"
  },
  "kernelspec": {
   "display_name": "Python 3",
   "language": "python",
   "name": "python3"
  },
  "language_info": {
   "codemirror_mode": {
    "name": "ipython",
    "version": 3
   },
   "file_extension": ".py",
   "mimetype": "text/x-python",
   "name": "python",
   "nbconvert_exporter": "python",
   "pygments_lexer": "ipython3",
   "version": "3.10.13"
  },
  "papermill": {
   "default_parameters": {},
   "duration": 4.324134,
   "end_time": "2024-02-06T18:32:33.083917",
   "environment_variables": {},
   "exception": null,
   "input_path": "__notebook__.ipynb",
   "output_path": "__notebook__.ipynb",
   "parameters": {},
   "start_time": "2024-02-06T18:32:28.759783",
   "version": "2.5.0"
  }
 },
 "nbformat": 4,
 "nbformat_minor": 5
}
