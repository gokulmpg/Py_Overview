{
 "cells": [
  {
   "cell_type": "raw",
   "id": "2fd3dd60",
   "metadata": {
    "_cell_guid": "b1076dfc-b9ad-4769-8c92-a6c4dae69d19",
    "_uuid": "8f2839f25d086af736a60e9eeb907d3b93b6e0e5",
    "papermill": {
     "duration": 0.005145,
     "end_time": "2024-02-05T18:38:21.655175",
     "exception": false,
     "start_time": "2024-02-05T18:38:21.650030",
     "status": "completed"
    },
    "tags": []
   },
   "source": [
    "# This Python 3 environment comes with many helpful analytics libraries installed\n",
    "# It is defined by the kaggle/python Docker image: https://github.com/kaggle/docker-python\n",
    "# For example, here's several helpful packages to load\n",
    "\n",
    "import numpy as np # linear algebra\n",
    "import pandas as pd # data processing, CSV file I/O (e.g. pd.read_csv)\n",
    "\n",
    "# Input data files are available in the read-only \"../input/\" directory\n",
    "# For example, running this (by clicking run or pressing Shift+Enter) will list all files under the input directory\n",
    "\n",
    "import os\n",
    "for dirname, _, filenames in os.walk('/kaggle/input'):\n",
    "    for filename in filenames:\n",
    "        print(os.path.join(dirname, filename))\n",
    "\n",
    "# You can write up to 20GB to the current directory (/kaggle/working/) that gets preserved as output when you create a version using \"Save & Run All\" \n",
    "# You can also write temporary files to /kaggle/temp/, but they won't be saved outside of the current session"
   ]
  },
  {
   "cell_type": "markdown",
   "id": "af17239e",
   "metadata": {
    "execution": {
     "iopub.execute_input": "2024-02-05T13:28:18.065320Z",
     "iopub.status.busy": "2024-02-05T13:28:18.064605Z",
     "iopub.status.idle": "2024-02-05T13:28:18.106589Z",
     "shell.execute_reply": "2024-02-05T13:28:18.105061Z",
     "shell.execute_reply.started": "2024-02-05T13:28:18.065260Z"
    },
    "papermill": {
     "duration": 0.00372,
     "end_time": "2024-02-05T18:38:21.663625",
     "exception": false,
     "start_time": "2024-02-05T18:38:21.659905",
     "status": "completed"
    },
    "tags": []
   },
   "source": [
    "\n",
    "#### Array based Data sctructures \n",
    "\n",
    "#### Approach - Scenerios --> Optimized \n",
    "- Time Complexity\n",
    "- Space COmplexity\n",
    "\n",
    "#### SORTING ALGO\n",
    "\n",
    "- Comparison Based\n",
    "\n",
    "> Selection\n",
    "\n",
    "> Bubble\n",
    "\n",
    "> Insertion\n",
    "\n",
    "> QuickSort  --  Divide and Conquer\n",
    "\n",
    "> Merge      --  Divide and Conquer\n",
    "\n",
    "> Heap\n",
    "\n",
    "- Non comparison Based\n",
    "\n",
    "> Count\n",
    "\n",
    "> Radix \n",
    "\n",
    "> Bucket\n",
    "\n",
    "#### Kinds of Sortings\n",
    "\n",
    "- Stable\n",
    "> Relative order should be maintained after sorting algorithms\n",
    "\n",
    "- Unstable\n",
    "> Relative order not maintained after sorting algorithms\n",
    "> - Eg: Quick, Selection and Heap\n",
    "\n",
    "\n",
    "\n"
   ]
  },
  {
   "cell_type": "raw",
   "id": "0301ff09",
   "metadata": {
    "papermill": {
     "duration": 0.004593,
     "end_time": "2024-02-05T18:38:21.672271",
     "exception": false,
     "start_time": "2024-02-05T18:38:21.667678",
     "status": "completed"
    },
    "tags": []
   },
   "source": [
    "#### Inplace (no extra space) & Outplace (extra Space) sorting ALGOs\n"
   ]
  },
  {
   "cell_type": "code",
   "execution_count": 1,
   "id": "cccf4120",
   "metadata": {
    "execution": {
     "iopub.execute_input": "2024-02-05T18:38:21.684412Z",
     "iopub.status.busy": "2024-02-05T18:38:21.683721Z",
     "iopub.status.idle": "2024-02-05T18:38:21.700938Z",
     "shell.execute_reply": "2024-02-05T18:38:21.699627Z"
    },
    "papermill": {
     "duration": 0.027168,
     "end_time": "2024-02-05T18:38:21.703955",
     "exception": false,
     "start_time": "2024-02-05T18:38:21.676787",
     "status": "completed"
    },
    "tags": []
   },
   "outputs": [],
   "source": [
    "#Bubble sort  O(n2)\n",
    " \n",
    "#### Multiple swaps to get the biggest number to the right end of the array.\n",
    "\n",
    "#pass 1    10 20 50 40 30 \n",
    "\n",
    "#pass 2    10 20 40 30 50 \n",
    "\n",
    "#pass 3    10 20 30 40 50\n",
    "\n",
    "\n",
    "def bubbelsort(arr):\n",
    "    \n",
    "    n = len(arr)\n",
    "    for i in range(n):\n",
    "        for j in range(0,n-i-1):\n",
    "            if arr[j] > arr[j+1]:\n",
    "                arr[j], arr[j+1] = arr[j+1], arr[j]\n",
    "    return arr\n",
    "            \n"
   ]
  },
  {
   "cell_type": "code",
   "execution_count": 2,
   "id": "8ffcf2d3",
   "metadata": {
    "execution": {
     "iopub.execute_input": "2024-02-05T18:38:21.714343Z",
     "iopub.status.busy": "2024-02-05T18:38:21.713435Z",
     "iopub.status.idle": "2024-02-05T18:38:21.721443Z",
     "shell.execute_reply": "2024-02-05T18:38:21.720264Z"
    },
    "papermill": {
     "duration": 0.016715,
     "end_time": "2024-02-05T18:38:21.724678",
     "exception": false,
     "start_time": "2024-02-05T18:38:21.707963",
     "status": "completed"
    },
    "tags": []
   },
   "outputs": [],
   "source": [
    "## SELECTION SORT _ O(n2)\n",
    "\n",
    "# Rand array  =  [10, 7, 1, 6 , 9, 8]\n",
    "\n",
    "# AT every pass one swap happens\n",
    "\n",
    "# minV  contains the index of the minumum value then swap this number with iterable value\n",
    "\n",
    "# Pass 1   minV = 2       1,7,10,6,9, 8, \n",
    "\n",
    "# Pass 2    minV = 3       1,6,10,7,9,8\n",
    "\n",
    "# Pass 3    minV = 3      1, 6 7, 10, 9 , 8\n",
    "\n",
    "# Pass 4     minV = 5      1,6,7,8,9,10\n",
    "\n",
    "\n",
    "\n",
    "def SelectSort(arr):\n",
    "    n = len(arr)\n",
    "    for i in range(n):\n",
    "        min_idx = i\n",
    "        for j in range(i+1, n):\n",
    "               if arr[j] < arr[min_idx]:\n",
    "                    min_idx = j\n",
    "        arr[i], arr[min_idx] = arr[min_idx],arr[i]\n",
    "    return arr\n",
    "                    "
   ]
  },
  {
   "cell_type": "code",
   "execution_count": 3,
   "id": "d84d73c8",
   "metadata": {
    "execution": {
     "iopub.execute_input": "2024-02-05T18:38:21.735157Z",
     "iopub.status.busy": "2024-02-05T18:38:21.734159Z",
     "iopub.status.idle": "2024-02-05T18:38:21.742170Z",
     "shell.execute_reply": "2024-02-05T18:38:21.741364Z"
    },
    "papermill": {
     "duration": 0.015623,
     "end_time": "2024-02-05T18:38:21.744642",
     "exception": false,
     "start_time": "2024-02-05T18:38:21.729019",
     "status": "completed"
    },
    "tags": []
   },
   "outputs": [
    {
     "data": {
      "text/plain": [
       "[2, 11, 22, 32, 1122]"
      ]
     },
     "execution_count": 3,
     "metadata": {},
     "output_type": "execute_result"
    }
   ],
   "source": [
    "SelectSort([32,2,11,22,1122])"
   ]
  },
  {
   "cell_type": "code",
   "execution_count": 4,
   "id": "e5a83789",
   "metadata": {
    "execution": {
     "iopub.execute_input": "2024-02-05T18:38:21.756926Z",
     "iopub.status.busy": "2024-02-05T18:38:21.755619Z",
     "iopub.status.idle": "2024-02-05T18:38:21.766647Z",
     "shell.execute_reply": "2024-02-05T18:38:21.764885Z"
    },
    "papermill": {
     "duration": 0.021034,
     "end_time": "2024-02-05T18:38:21.770132",
     "exception": false,
     "start_time": "2024-02-05T18:38:21.749098",
     "status": "completed"
    },
    "tags": []
   },
   "outputs": [],
   "source": [
    "### INSERTION \n",
    "\n",
    "# arr = 75, 90, 100, 95, 85, 50, 100, 110, 7\n",
    "\n",
    "#Pass 1  75  90\n",
    "\n",
    "#Pass 2  75 90 100\n",
    "\n",
    "#Pass 3  75 90 95 100\n",
    "\n",
    "#Pass 4  75 85 90 95 100\n",
    "\n",
    "#Pass 5  50 75 85 90 95 100\n",
    "\n",
    "#Pass 6  50 75 85 90 95 100 110\n",
    "\n",
    "#Pass 7   7 50 75 85 90 95 100 110\n",
    "\n",
    "def InsertSort(arr,):\n",
    "    \n",
    "    for i in range(1,len(arr)):\n",
    "        key = arr[i]\n",
    "        \n",
    "        j = i - 1\n",
    "        \n",
    "        while j>=0 and key < arr[j]:\n",
    "            arr[j+1] = arr[j]\n",
    "            j = j-1\n",
    "            \n",
    "        arr[j+1] = key\n",
    "    return arr\n"
   ]
  },
  {
   "cell_type": "code",
   "execution_count": 5,
   "id": "ae04adee",
   "metadata": {
    "execution": {
     "iopub.execute_input": "2024-02-05T18:38:21.781881Z",
     "iopub.status.busy": "2024-02-05T18:38:21.781479Z",
     "iopub.status.idle": "2024-02-05T18:38:21.790584Z",
     "shell.execute_reply": "2024-02-05T18:38:21.788831Z"
    },
    "papermill": {
     "duration": 0.018392,
     "end_time": "2024-02-05T18:38:21.793420",
     "exception": false,
     "start_time": "2024-02-05T18:38:21.775028",
     "status": "completed"
    },
    "tags": []
   },
   "outputs": [
    {
     "data": {
      "text/plain": [
       "[1, 2, 2, 3, 4, 5, 90]"
      ]
     },
     "execution_count": 5,
     "metadata": {},
     "output_type": "execute_result"
    }
   ],
   "source": [
    "InsertSort([2,3,4,5,1,2,90],)"
   ]
  },
  {
   "cell_type": "code",
   "execution_count": null,
   "id": "52be7598",
   "metadata": {
    "papermill": {
     "duration": 0.003961,
     "end_time": "2024-02-05T18:38:21.801790",
     "exception": false,
     "start_time": "2024-02-05T18:38:21.797829",
     "status": "completed"
    },
    "tags": []
   },
   "outputs": [],
   "source": []
  }
 ],
 "metadata": {
  "kaggle": {
   "accelerator": "none",
   "dataSources": [],
   "dockerImageVersionId": 30646,
   "isGpuEnabled": false,
   "isInternetEnabled": true,
   "language": "python",
   "sourceType": "notebook"
  },
  "kernelspec": {
   "display_name": "Python 3",
   "language": "python",
   "name": "python3"
  },
  "language_info": {
   "codemirror_mode": {
    "name": "ipython",
    "version": 3
   },
   "file_extension": ".py",
   "mimetype": "text/x-python",
   "name": "python",
   "nbconvert_exporter": "python",
   "pygments_lexer": "ipython3",
   "version": "3.10.13"
  },
  "papermill": {
   "default_parameters": {},
   "duration": 6.240597,
   "end_time": "2024-02-05T18:38:24.499526",
   "environment_variables": {},
   "exception": null,
   "input_path": "__notebook__.ipynb",
   "output_path": "__notebook__.ipynb",
   "parameters": {},
   "start_time": "2024-02-05T18:38:18.258929",
   "version": "2.5.0"
  }
 },
 "nbformat": 4,
 "nbformat_minor": 5
}
