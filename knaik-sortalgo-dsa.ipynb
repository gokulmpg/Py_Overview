{
 "cells": [
  {
   "cell_type": "raw",
   "id": "5f5481fe",
   "metadata": {
    "_cell_guid": "b1076dfc-b9ad-4769-8c92-a6c4dae69d19",
    "_uuid": "8f2839f25d086af736a60e9eeb907d3b93b6e0e5",
    "papermill": {
     "duration": 0.005968,
     "end_time": "2024-02-06T17:25:09.550525",
     "exception": false,
     "start_time": "2024-02-06T17:25:09.544557",
     "status": "completed"
    },
    "tags": []
   },
   "source": [
    "# This Python 3 environment comes with many helpful analytics libraries installed\n",
    "# It is defined by the kaggle/python Docker image: https://github.com/kaggle/docker-python\n",
    "# For example, here's several helpful packages to load\n",
    "\n",
    "import numpy as np # linear algebra\n",
    "import pandas as pd # data processing, CSV file I/O (e.g. pd.read_csv)\n",
    "\n",
    "# Input data files are available in the read-only \"../input/\" directory\n",
    "# For example, running this (by clicking run or pressing Shift+Enter) will list all files under the input directory\n",
    "\n",
    "import os\n",
    "for dirname, _, filenames in os.walk('/kaggle/input'):\n",
    "    for filename in filenames:\n",
    "        print(os.path.join(dirname, filename))\n",
    "\n",
    "# You can write up to 20GB to the current directory (/kaggle/working/) that gets preserved as output when you create a version using \"Save & Run All\" \n",
    "# You can also write temporary files to /kaggle/temp/, but they won't be saved outside of the current session"
   ]
  },
  {
   "cell_type": "markdown",
   "id": "d1b1a48b",
   "metadata": {
    "execution": {
     "iopub.execute_input": "2024-02-05T13:28:18.065320Z",
     "iopub.status.busy": "2024-02-05T13:28:18.064605Z",
     "iopub.status.idle": "2024-02-05T13:28:18.106589Z",
     "shell.execute_reply": "2024-02-05T13:28:18.105061Z",
     "shell.execute_reply.started": "2024-02-05T13:28:18.065260Z"
    },
    "papermill": {
     "duration": 0.00541,
     "end_time": "2024-02-06T17:25:09.561663",
     "exception": false,
     "start_time": "2024-02-06T17:25:09.556253",
     "status": "completed"
    },
    "tags": []
   },
   "source": [
    "\n",
    "#### Array based Data sctructures \n",
    "\n",
    "#### Approach - Scenerios --> Optimized \n",
    "- Time Complexity\n",
    "- Space COmplexity\n",
    "\n",
    "#### SORTING ALGO\n",
    "\n",
    "- Comparison Based\n",
    "\n",
    "> Selection\n",
    "\n",
    "> Bubble\n",
    "\n",
    "> Insertion\n",
    "\n",
    "> QuickSort  --  Divide and Conquer\n",
    "\n",
    "> Merge      --  Divide and Conquer\n",
    "\n",
    "> Heap\n",
    "\n",
    "- Non comparison Based\n",
    "\n",
    "> Count\n",
    "\n",
    "> Radix \n",
    "\n",
    "> Bucket\n",
    "\n",
    "#### Kinds of Sortings\n",
    "\n",
    "- Stable\n",
    "> Relative order should be maintained after sorting algorithms\n",
    "\n",
    "- Unstable\n",
    "> Relative order not maintained after sorting algorithms\n",
    "> - Eg: Quick, Selection and Heap\n",
    "\n",
    "\n",
    "\n"
   ]
  },
  {
   "cell_type": "raw",
   "id": "99d7b235",
   "metadata": {
    "papermill": {
     "duration": 0.005171,
     "end_time": "2024-02-06T17:25:09.572495",
     "exception": false,
     "start_time": "2024-02-06T17:25:09.567324",
     "status": "completed"
    },
    "tags": []
   },
   "source": [
    "#### Inplace (no extra space) & Outplace (extra Space) sorting ALGOs\n"
   ]
  },
  {
   "cell_type": "code",
   "execution_count": 1,
   "id": "f59c69dd",
   "metadata": {
    "execution": {
     "iopub.execute_input": "2024-02-06T17:25:09.585607Z",
     "iopub.status.busy": "2024-02-06T17:25:09.585166Z",
     "iopub.status.idle": "2024-02-06T17:25:09.601692Z",
     "shell.execute_reply": "2024-02-06T17:25:09.600844Z"
    },
    "papermill": {
     "duration": 0.025911,
     "end_time": "2024-02-06T17:25:09.603911",
     "exception": false,
     "start_time": "2024-02-06T17:25:09.578000",
     "status": "completed"
    },
    "tags": []
   },
   "outputs": [],
   "source": [
    "#Bubble sort  O(n2)\n",
    " \n",
    "#### Multiple swaps to get the biggest number to the right end of the array.\n",
    "\n",
    "#pass 1    10 20 50 40 30 \n",
    "\n",
    "#pass 2    10 20 40 30 50 \n",
    "\n",
    "#pass 3    10 20 30 40 50\n",
    "\n",
    "\n",
    "def bubbelsort(arr):\n",
    "    \n",
    "    n = len(arr)\n",
    "    for i in range(n):\n",
    "        for j in range(0,n-i-1):\n",
    "            if arr[j] > arr[j+1]:\n",
    "                arr[j], arr[j+1] = arr[j+1], arr[j]\n",
    "    return arr\n",
    "            \n"
   ]
  },
  {
   "cell_type": "code",
   "execution_count": 2,
   "id": "fdb72cae",
   "metadata": {
    "execution": {
     "iopub.execute_input": "2024-02-06T17:25:09.617394Z",
     "iopub.status.busy": "2024-02-06T17:25:09.616338Z",
     "iopub.status.idle": "2024-02-06T17:25:09.623718Z",
     "shell.execute_reply": "2024-02-06T17:25:09.622481Z"
    },
    "papermill": {
     "duration": 0.016818,
     "end_time": "2024-02-06T17:25:09.626383",
     "exception": false,
     "start_time": "2024-02-06T17:25:09.609565",
     "status": "completed"
    },
    "tags": []
   },
   "outputs": [],
   "source": [
    "## SELECTION SORT _ O(n2)\n",
    "\n",
    "# Rand array  =  [10, 7, 1, 6 , 9, 8]\n",
    "\n",
    "# AT every pass one swap happens\n",
    "\n",
    "# minV  contains the index of the minumum value then swap this number with iterable value\n",
    "\n",
    "# Pass 1   minV = 2       1,7,10,6,9, 8, \n",
    "\n",
    "# Pass 2    minV = 3       1,6,10,7,9,8\n",
    "\n",
    "# Pass 3    minV = 3      1, 6 7, 10, 9 , 8\n",
    "\n",
    "# Pass 4     minV = 5      1,6,7,8,9,10\n",
    "\n",
    "\n",
    "\n",
    "def SelectSort(arr):\n",
    "    n = len(arr)\n",
    "    for i in range(n):\n",
    "        min_idx = i\n",
    "        for j in range(i+1, n):\n",
    "               if arr[j] < arr[min_idx]:\n",
    "                    min_idx = j\n",
    "        arr[i], arr[min_idx] = arr[min_idx],arr[i]\n",
    "    return arr\n",
    "                    "
   ]
  },
  {
   "cell_type": "code",
   "execution_count": 3,
   "id": "afd1037b",
   "metadata": {
    "execution": {
     "iopub.execute_input": "2024-02-06T17:25:09.639200Z",
     "iopub.status.busy": "2024-02-06T17:25:09.638729Z",
     "iopub.status.idle": "2024-02-06T17:25:09.646645Z",
     "shell.execute_reply": "2024-02-06T17:25:09.645692Z"
    },
    "papermill": {
     "duration": 0.016903,
     "end_time": "2024-02-06T17:25:09.648744",
     "exception": false,
     "start_time": "2024-02-06T17:25:09.631841",
     "status": "completed"
    },
    "tags": []
   },
   "outputs": [
    {
     "data": {
      "text/plain": [
       "[2, 11, 22, 32, 1122]"
      ]
     },
     "execution_count": 3,
     "metadata": {},
     "output_type": "execute_result"
    }
   ],
   "source": [
    "SelectSort([32,2,11,22,1122])"
   ]
  },
  {
   "cell_type": "code",
   "execution_count": 4,
   "id": "8ad69d4f",
   "metadata": {
    "execution": {
     "iopub.execute_input": "2024-02-06T17:25:09.662219Z",
     "iopub.status.busy": "2024-02-06T17:25:09.661509Z",
     "iopub.status.idle": "2024-02-06T17:25:09.668428Z",
     "shell.execute_reply": "2024-02-06T17:25:09.667415Z"
    },
    "papermill": {
     "duration": 0.016322,
     "end_time": "2024-02-06T17:25:09.670661",
     "exception": false,
     "start_time": "2024-02-06T17:25:09.654339",
     "status": "completed"
    },
    "tags": []
   },
   "outputs": [],
   "source": [
    "### INSERTION \n",
    "\n",
    "# arr = 75, 90, 100, 95, 85, 50, 100, 110, 7\n",
    "\n",
    "#Pass 1  75  90\n",
    "\n",
    "#Pass 2  75 90 100\n",
    "\n",
    "#Pass 3  75 90 95 100\n",
    "\n",
    "#Pass 4  75 85 90 95 100\n",
    "\n",
    "#Pass 5  50 75 85 90 95 100\n",
    "\n",
    "#Pass 6  50 75 85 90 95 100 110\n",
    "\n",
    "#Pass 7   7 50 75 85 90 95 100 110\n",
    "\n",
    "def InsertSort(arr,):\n",
    "    \n",
    "    for i in range(1,len(arr)):\n",
    "        key = arr[i]\n",
    "        \n",
    "        j = i - 1\n",
    "        \n",
    "        while j>=0 and key < arr[j]:\n",
    "            arr[j+1] = arr[j]\n",
    "            j = j-1\n",
    "            \n",
    "        arr[j+1] = key\n",
    "    return arr\n"
   ]
  },
  {
   "cell_type": "code",
   "execution_count": 5,
   "id": "39cc7e77",
   "metadata": {
    "execution": {
     "iopub.execute_input": "2024-02-06T17:25:09.684016Z",
     "iopub.status.busy": "2024-02-06T17:25:09.683629Z",
     "iopub.status.idle": "2024-02-06T17:25:09.691581Z",
     "shell.execute_reply": "2024-02-06T17:25:09.690120Z"
    },
    "papermill": {
     "duration": 0.017831,
     "end_time": "2024-02-06T17:25:09.694151",
     "exception": false,
     "start_time": "2024-02-06T17:25:09.676320",
     "status": "completed"
    },
    "tags": []
   },
   "outputs": [
    {
     "data": {
      "text/plain": [
       "[1, 2, 2, 3, 4, 5, 90]"
      ]
     },
     "execution_count": 5,
     "metadata": {},
     "output_type": "execute_result"
    }
   ],
   "source": [
    "InsertSort([2,3,4,5,1,2,90],)"
   ]
  },
  {
   "cell_type": "raw",
   "id": "717e42b2",
   "metadata": {
    "papermill": {
     "duration": 0.005393,
     "end_time": "2024-02-06T17:25:09.705258",
     "exception": false,
     "start_time": "2024-02-06T17:25:09.699865",
     "status": "completed"
    },
    "tags": []
   },
   "source": [
    "#### HEAPS\n",
    "\n",
    "\n",
    "Top k frequent elements "
   ]
  },
  {
   "cell_type": "code",
   "execution_count": 6,
   "id": "d4442c06",
   "metadata": {
    "execution": {
     "iopub.execute_input": "2024-02-06T17:25:09.718354Z",
     "iopub.status.busy": "2024-02-06T17:25:09.717952Z",
     "iopub.status.idle": "2024-02-06T17:25:09.724320Z",
     "shell.execute_reply": "2024-02-06T17:25:09.723147Z"
    },
    "papermill": {
     "duration": 0.016114,
     "end_time": "2024-02-06T17:25:09.726992",
     "exception": false,
     "start_time": "2024-02-06T17:25:09.710878",
     "status": "completed"
    },
    "tags": []
   },
   "outputs": [],
   "source": [
    "from collections import Counter\n",
    "import heapq\n",
    "\n",
    "def TopKEl(Arr,Key):\n",
    "    if Key == len(Arr):\n",
    "        return set(arrayheap)\n",
    "    \n",
    "    count = Counter(Arr)\n",
    "    return heapq.nlargest(Key,count.keys(),key=count.get)\n",
    "    \n",
    "Arr = [51,2,53,4,53,6,7]\n",
    "\n"
   ]
  },
  {
   "cell_type": "code",
   "execution_count": 7,
   "id": "713e4e40",
   "metadata": {
    "execution": {
     "iopub.execute_input": "2024-02-06T17:25:09.741951Z",
     "iopub.status.busy": "2024-02-06T17:25:09.740922Z",
     "iopub.status.idle": "2024-02-06T17:25:09.748695Z",
     "shell.execute_reply": "2024-02-06T17:25:09.747667Z"
    },
    "papermill": {
     "duration": 0.017424,
     "end_time": "2024-02-06T17:25:09.750887",
     "exception": false,
     "start_time": "2024-02-06T17:25:09.733463",
     "status": "completed"
    },
    "tags": []
   },
   "outputs": [
    {
     "data": {
      "text/plain": [
       "[53, 51, 2, 4]"
      ]
     },
     "execution_count": 7,
     "metadata": {},
     "output_type": "execute_result"
    }
   ],
   "source": [
    "TopKEl(Arr,4)"
   ]
  },
  {
   "cell_type": "code",
   "execution_count": 8,
   "id": "d667d0a2",
   "metadata": {
    "execution": {
     "iopub.execute_input": "2024-02-06T17:25:09.765114Z",
     "iopub.status.busy": "2024-02-06T17:25:09.764465Z",
     "iopub.status.idle": "2024-02-06T17:25:09.772521Z",
     "shell.execute_reply": "2024-02-06T17:25:09.771449Z"
    },
    "papermill": {
     "duration": 0.018204,
     "end_time": "2024-02-06T17:25:09.775313",
     "exception": false,
     "start_time": "2024-02-06T17:25:09.757109",
     "status": "completed"
    },
    "tags": []
   },
   "outputs": [],
   "source": [
    "from heapq import heappush, heappop\n",
    "import math\n",
    "def get_dist(x,y):\n",
    "    return math.sqrt(x**2+y**2)\n",
    "def KClose(points,K):\n",
    "    min_heap = []\n",
    "    n = len(points)\n",
    "    for i in range(n):\n",
    "        x = points[i][0]\n",
    "        y = points[i][1]\n",
    "        \n",
    "        heappush(min_heap,(get_dist(x,y),points[i]))\n",
    "        \n",
    "    results = []\n",
    "    for i in range(K):\n",
    "        results.append(heappop(min_heap)[1])\n",
    "    return results"
   ]
  },
  {
   "cell_type": "code",
   "execution_count": 9,
   "id": "292af987",
   "metadata": {
    "execution": {
     "iopub.execute_input": "2024-02-06T17:25:09.789253Z",
     "iopub.status.busy": "2024-02-06T17:25:09.788836Z",
     "iopub.status.idle": "2024-02-06T17:25:09.795852Z",
     "shell.execute_reply": "2024-02-06T17:25:09.794664Z"
    },
    "papermill": {
     "duration": 0.017184,
     "end_time": "2024-02-06T17:25:09.798573",
     "exception": false,
     "start_time": "2024-02-06T17:25:09.781389",
     "status": "completed"
    },
    "tags": []
   },
   "outputs": [
    {
     "data": {
      "text/plain": [
       "[(1, 2)]"
      ]
     },
     "execution_count": 9,
     "metadata": {},
     "output_type": "execute_result"
    }
   ],
   "source": [
    "KClose([(1,2),(3,4),(-5,6)],1)"
   ]
  },
  {
   "cell_type": "code",
   "execution_count": null,
   "id": "567846e3",
   "metadata": {
    "papermill": {
     "duration": 0.005788,
     "end_time": "2024-02-06T17:25:09.810520",
     "exception": false,
     "start_time": "2024-02-06T17:25:09.804732",
     "status": "completed"
    },
    "tags": []
   },
   "outputs": [],
   "source": []
  },
  {
   "cell_type": "code",
   "execution_count": null,
   "id": "34b93de3",
   "metadata": {
    "papermill": {
     "duration": 0.00572,
     "end_time": "2024-02-06T17:25:09.822362",
     "exception": false,
     "start_time": "2024-02-06T17:25:09.816642",
     "status": "completed"
    },
    "tags": []
   },
   "outputs": [],
   "source": []
  }
 ],
 "metadata": {
  "kaggle": {
   "accelerator": "none",
   "dataSources": [],
   "dockerImageVersionId": 30646,
   "isGpuEnabled": false,
   "isInternetEnabled": true,
   "language": "python",
   "sourceType": "notebook"
  },
  "kernelspec": {
   "display_name": "Python 3",
   "language": "python",
   "name": "python3"
  },
  "language_info": {
   "codemirror_mode": {
    "name": "ipython",
    "version": 3
   },
   "file_extension": ".py",
   "mimetype": "text/x-python",
   "name": "python",
   "nbconvert_exporter": "python",
   "pygments_lexer": "ipython3",
   "version": "3.10.13"
  },
  "papermill": {
   "default_parameters": {},
   "duration": 3.890676,
   "end_time": "2024-02-06T17:25:10.249017",
   "environment_variables": {},
   "exception": null,
   "input_path": "__notebook__.ipynb",
   "output_path": "__notebook__.ipynb",
   "parameters": {},
   "start_time": "2024-02-06T17:25:06.358341",
   "version": "2.5.0"
  }
 },
 "nbformat": 4,
 "nbformat_minor": 5
}
