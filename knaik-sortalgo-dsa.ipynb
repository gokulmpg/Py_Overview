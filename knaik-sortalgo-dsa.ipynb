{
 "cells": [
  {
   "cell_type": "raw",
   "id": "0ea1795e",
   "metadata": {
    "_cell_guid": "b1076dfc-b9ad-4769-8c92-a6c4dae69d19",
    "_uuid": "8f2839f25d086af736a60e9eeb907d3b93b6e0e5",
    "papermill": {
     "duration": 0.002569,
     "end_time": "2024-02-05T18:13:20.277014",
     "exception": false,
     "start_time": "2024-02-05T18:13:20.274445",
     "status": "completed"
    },
    "tags": []
   },
   "source": [
    "# This Python 3 environment comes with many helpful analytics libraries installed\n",
    "# It is defined by the kaggle/python Docker image: https://github.com/kaggle/docker-python\n",
    "# For example, here's several helpful packages to load\n",
    "\n",
    "import numpy as np # linear algebra\n",
    "import pandas as pd # data processing, CSV file I/O (e.g. pd.read_csv)\n",
    "\n",
    "# Input data files are available in the read-only \"../input/\" directory\n",
    "# For example, running this (by clicking run or pressing Shift+Enter) will list all files under the input directory\n",
    "\n",
    "import os\n",
    "for dirname, _, filenames in os.walk('/kaggle/input'):\n",
    "    for filename in filenames:\n",
    "        print(os.path.join(dirname, filename))\n",
    "\n",
    "# You can write up to 20GB to the current directory (/kaggle/working/) that gets preserved as output when you create a version using \"Save & Run All\" \n",
    "# You can also write temporary files to /kaggle/temp/, but they won't be saved outside of the current session"
   ]
  },
  {
   "cell_type": "markdown",
   "id": "20590f40",
   "metadata": {
    "execution": {
     "iopub.execute_input": "2024-02-05T13:28:18.065320Z",
     "iopub.status.busy": "2024-02-05T13:28:18.064605Z",
     "iopub.status.idle": "2024-02-05T13:28:18.106589Z",
     "shell.execute_reply": "2024-02-05T13:28:18.105061Z",
     "shell.execute_reply.started": "2024-02-05T13:28:18.065260Z"
    },
    "papermill": {
     "duration": 0.001943,
     "end_time": "2024-02-05T18:13:20.281181",
     "exception": false,
     "start_time": "2024-02-05T18:13:20.279238",
     "status": "completed"
    },
    "tags": []
   },
   "source": [
    "\n",
    "#### Array based Data sctructures \n",
    "\n",
    "#### Approach - Scenerios --> Optimized \n",
    "- Time Complexity\n",
    "- Space COmplexity\n",
    "\n",
    "#### SORTING ALGO\n",
    "\n",
    "- Comparison Based\n",
    "\n",
    "> Selection\n",
    "\n",
    "> Bubble\n",
    "\n",
    "> Insertion\n",
    "\n",
    "> QuickSort  --  Divide and Conquer\n",
    "\n",
    "> Merge      --  Divide and Conquer\n",
    "\n",
    "> Heap\n",
    "\n",
    "- Non comparison Based\n",
    "\n",
    "> Count\n",
    "\n",
    "> Radix \n",
    "\n",
    "> Bucket\n",
    "\n",
    "#### Kinds of Sortings\n",
    "\n",
    "- Stable\n",
    "> Relative order should be maintained after sorting algorithms\n",
    "\n",
    "- Unstable\n",
    "> Relative order not maintained after sorting algorithms\n",
    "> - Eg: Quick, Selection and Heap\n",
    "\n",
    "\n",
    "\n"
   ]
  },
  {
   "cell_type": "raw",
   "id": "8aa15b84",
   "metadata": {
    "papermill": {
     "duration": 0.001832,
     "end_time": "2024-02-05T18:13:20.285016",
     "exception": false,
     "start_time": "2024-02-05T18:13:20.283184",
     "status": "completed"
    },
    "tags": []
   },
   "source": [
    "#### Inplace (no extra space) & Outplace (extra Space) sorting ALGOs\n"
   ]
  },
  {
   "cell_type": "code",
   "execution_count": 1,
   "id": "383c5668",
   "metadata": {
    "execution": {
     "iopub.execute_input": "2024-02-05T18:13:20.290400Z",
     "iopub.status.busy": "2024-02-05T18:13:20.290072Z",
     "iopub.status.idle": "2024-02-05T18:13:20.299968Z",
     "shell.execute_reply": "2024-02-05T18:13:20.299249Z"
    },
    "papermill": {
     "duration": 0.014402,
     "end_time": "2024-02-05T18:13:20.301412",
     "exception": false,
     "start_time": "2024-02-05T18:13:20.287010",
     "status": "completed"
    },
    "tags": []
   },
   "outputs": [],
   "source": [
    "#Bubble sort  O(n2)\n",
    " \n",
    "#### Multiple swaps to get the biggest number to the right end of the array.\n",
    "\n",
    "#pass 1    10 20 50 40 30 \n",
    "\n",
    "#pass 2    10 20 40 30 50 \n",
    "\n",
    "#pass 3    10 20 30 40 50\n",
    "\n",
    "\n",
    "def bubbelsort(arr):\n",
    "    \n",
    "    n = len(arr)\n",
    "    for i in range(n):\n",
    "        for j in range(0,n-i-1):\n",
    "            if arr[j] > arr[j+1]:\n",
    "                arr[j], arr[j+1] = arr[j+1], arr[j]\n",
    "    return arr\n",
    "            \n"
   ]
  },
  {
   "cell_type": "code",
   "execution_count": 2,
   "id": "e0e856d1",
   "metadata": {
    "execution": {
     "iopub.execute_input": "2024-02-05T18:13:20.306695Z",
     "iopub.status.busy": "2024-02-05T18:13:20.306475Z",
     "iopub.status.idle": "2024-02-05T18:13:20.311047Z",
     "shell.execute_reply": "2024-02-05T18:13:20.310375Z"
    },
    "papermill": {
     "duration": 0.008704,
     "end_time": "2024-02-05T18:13:20.312495",
     "exception": false,
     "start_time": "2024-02-05T18:13:20.303791",
     "status": "completed"
    },
    "tags": []
   },
   "outputs": [],
   "source": [
    "## SELECTION SORT _ O(n2)\n",
    "\n",
    "# Rand array  =  [10, 7, 1, 6 , 9, 8]\n",
    "\n",
    "# AT every pass one swap happens\n",
    "\n",
    "# minV  contains the index of the minumum value then swap this number with iterable value\n",
    "\n",
    "# Pass 1   minV = 2       1,7,10,6,9, 8, \n",
    "\n",
    "# Pass 2    minV = 3       1,6,10,7,9,8\n",
    "\n",
    "# Pass 3    minV = 3      1, 6 7, 10, 9 , 8\n",
    "\n",
    "# Pass 4     minV = 5      1,6,7,8,9,10\n",
    "\n",
    "\n",
    "\n",
    "def SelectSort(arr):\n",
    "    n = len(arr)\n",
    "    for i in range(n):\n",
    "        min_idx = i\n",
    "        for j in range(i+1, n):\n",
    "               if arr[j] < arr[min_idx]:\n",
    "                    min_idx = j\n",
    "        arr[i], arr[min_idx] = arr[min_idx],arr[i]\n",
    "    return arr\n",
    "                    "
   ]
  },
  {
   "cell_type": "code",
   "execution_count": 3,
   "id": "2dc4576f",
   "metadata": {
    "execution": {
     "iopub.execute_input": "2024-02-05T18:13:20.317437Z",
     "iopub.status.busy": "2024-02-05T18:13:20.317197Z",
     "iopub.status.idle": "2024-02-05T18:13:20.322956Z",
     "shell.execute_reply": "2024-02-05T18:13:20.322241Z"
    },
    "papermill": {
     "duration": 0.009884,
     "end_time": "2024-02-05T18:13:20.324519",
     "exception": false,
     "start_time": "2024-02-05T18:13:20.314635",
     "status": "completed"
    },
    "tags": []
   },
   "outputs": [
    {
     "data": {
      "text/plain": [
       "[2, 11, 22, 32, 1122]"
      ]
     },
     "execution_count": 3,
     "metadata": {},
     "output_type": "execute_result"
    }
   ],
   "source": [
    "SelectSort([32,2,11,22,1122])"
   ]
  },
  {
   "cell_type": "code",
   "execution_count": 4,
   "id": "c006a4bb",
   "metadata": {
    "execution": {
     "iopub.execute_input": "2024-02-05T18:13:20.330129Z",
     "iopub.status.busy": "2024-02-05T18:13:20.329767Z",
     "iopub.status.idle": "2024-02-05T18:13:20.333020Z",
     "shell.execute_reply": "2024-02-05T18:13:20.332507Z"
    },
    "papermill": {
     "duration": 0.007664,
     "end_time": "2024-02-05T18:13:20.334510",
     "exception": false,
     "start_time": "2024-02-05T18:13:20.326846",
     "status": "completed"
    },
    "tags": []
   },
   "outputs": [],
   "source": [
    "### INSERTION \n",
    "\n",
    "# arr = 75, 90, 100, 95, 85, 50, 100, 110, 7\n",
    "\n",
    "#Pass 1  75  90\n",
    "\n",
    "#Pass 2  75 90 100\n",
    "\n",
    "#Pass 3  75 90 95 100\n",
    "\n",
    "#Pass 4  75 85 90 95 100\n",
    "\n",
    "#Pass 5  50 75 85 90 95 100\n",
    "\n",
    "#Pass 6  50 75 85 90 95 100 110\n",
    "\n",
    "#Pass 7   7 50 75 85 90 95 100 110\n",
    "\n",
    "\n"
   ]
  },
  {
   "cell_type": "code",
   "execution_count": null,
   "id": "855ede08",
   "metadata": {
    "papermill": {
     "duration": 0.001995,
     "end_time": "2024-02-05T18:13:20.338668",
     "exception": false,
     "start_time": "2024-02-05T18:13:20.336673",
     "status": "completed"
    },
    "tags": []
   },
   "outputs": [],
   "source": []
  }
 ],
 "metadata": {
  "kaggle": {
   "accelerator": "none",
   "dataSources": [],
   "dockerImageVersionId": 30646,
   "isGpuEnabled": false,
   "isInternetEnabled": true,
   "language": "python",
   "sourceType": "notebook"
  },
  "kernelspec": {
   "display_name": "Python 3",
   "language": "python",
   "name": "python3"
  },
  "language_info": {
   "codemirror_mode": {
    "name": "ipython",
    "version": 3
   },
   "file_extension": ".py",
   "mimetype": "text/x-python",
   "name": "python",
   "nbconvert_exporter": "python",
   "pygments_lexer": "ipython3",
   "version": "3.10.13"
  },
  "papermill": {
   "default_parameters": {},
   "duration": 2.309712,
   "end_time": "2024-02-05T18:13:20.556711",
   "environment_variables": {},
   "exception": null,
   "input_path": "__notebook__.ipynb",
   "output_path": "__notebook__.ipynb",
   "parameters": {},
   "start_time": "2024-02-05T18:13:18.246999",
   "version": "2.5.0"
  }
 },
 "nbformat": 4,
 "nbformat_minor": 5
}
