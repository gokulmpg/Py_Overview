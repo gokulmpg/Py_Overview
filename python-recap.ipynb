{
 "cells": [
  {
   "cell_type": "code",
   "execution_count": 1,
   "id": "66031eed",
   "metadata": {
    "_cell_guid": "b1076dfc-b9ad-4769-8c92-a6c4dae69d19",
    "_uuid": "8f2839f25d086af736a60e9eeb907d3b93b6e0e5",
    "execution": {
     "iopub.execute_input": "2023-12-18T19:39:14.007214Z",
     "iopub.status.busy": "2023-12-18T19:39:14.006867Z",
     "iopub.status.idle": "2023-12-18T19:39:14.341883Z",
     "shell.execute_reply": "2023-12-18T19:39:14.340718Z"
    },
    "papermill": {
     "duration": 0.341899,
     "end_time": "2023-12-18T19:39:14.344194",
     "exception": false,
     "start_time": "2023-12-18T19:39:14.002295",
     "status": "completed"
    },
    "tags": []
   },
   "outputs": [],
   "source": [
    "# This Python 3 environment comes with many helpful analytics libraries installed\n",
    "# It is defined by the kaggle/python Docker image: https://github.com/kaggle/docker-python\n",
    "# For example, here's several helpful packages to load\n",
    "\n",
    "import numpy as np # linear algebra\n",
    "import pandas as pd # data processing, CSV file I/O (e.g. pd.read_csv)\n",
    "\n",
    "# Input data files are available in the read-only \"../input/\" directory\n",
    "# For example, running this (by clicking run or pressing Shift+Enter) will list all files under the input directory\n",
    "\n",
    "import os\n",
    "for dirname, _, filenames in os.walk('/kaggle/input'):\n",
    "    for filename in filenames:\n",
    "        print(os.path.join(dirname, filename))\n",
    "\n",
    "# You can write up to 20GB to the current directory (/kaggle/working/) that gets preserved as output when you create a version using \"Save & Run All\" \n",
    "# You can also write temporary files to /kaggle/temp/, but they won't be saved outside of the current session"
   ]
  },
  {
   "cell_type": "code",
   "execution_count": 2,
   "id": "9749be05",
   "metadata": {
    "execution": {
     "iopub.execute_input": "2023-12-18T19:39:14.351386Z",
     "iopub.status.busy": "2023-12-18T19:39:14.349813Z",
     "iopub.status.idle": "2023-12-18T19:39:14.355630Z",
     "shell.execute_reply": "2023-12-18T19:39:14.354386Z"
    },
    "papermill": {
     "duration": 0.01195,
     "end_time": "2023-12-18T19:39:14.358291",
     "exception": false,
     "start_time": "2023-12-18T19:39:14.346341",
     "status": "completed"
    },
    "tags": []
   },
   "outputs": [],
   "source": [
    "def fuctt22(*arg):\n",
    "    #checks if all args Not numeric\n",
    "    for x in args:\n",
    "        if not(isinstance(x,(int,float))):\n",
    "            return False\n",
    "    return True"
   ]
  },
  {
   "cell_type": "code",
   "execution_count": 3,
   "id": "8b11a77a",
   "metadata": {
    "execution": {
     "iopub.execute_input": "2023-12-18T19:39:14.363785Z",
     "iopub.status.busy": "2023-12-18T19:39:14.363436Z",
     "iopub.status.idle": "2023-12-18T19:39:14.368464Z",
     "shell.execute_reply": "2023-12-18T19:39:14.367275Z"
    },
    "papermill": {
     "duration": 0.010151,
     "end_time": "2023-12-18T19:39:14.370507",
     "exception": false,
     "start_time": "2023-12-18T19:39:14.360356",
     "status": "completed"
    },
    "tags": []
   },
   "outputs": [],
   "source": [
    "def fuctt23(*args):\n",
    "    s=0\n",
    "    for x in arg:\n",
    "        s+=x\n",
    "        return s\n",
    "    \n",
    "Myname = \"Coursers of mine\""
   ]
  },
  {
   "cell_type": "code",
   "execution_count": 4,
   "id": "f9cb1b83",
   "metadata": {
    "execution": {
     "iopub.execute_input": "2023-12-18T19:39:14.377033Z",
     "iopub.status.busy": "2023-12-18T19:39:14.375617Z",
     "iopub.status.idle": "2023-12-18T19:39:14.383844Z",
     "shell.execute_reply": "2023-12-18T19:39:14.382564Z"
    },
    "papermill": {
     "duration": 0.013415,
     "end_time": "2023-12-18T19:39:14.385899",
     "exception": false,
     "start_time": "2023-12-18T19:39:14.372484",
     "status": "completed"
    },
    "tags": []
   },
   "outputs": [
    {
     "data": {
      "text/plain": [
       "\"\\n\\nimport sys\\n\\nsys.path.append)'C:/<folder_path>/'\\n\\nimport myfile as myfs\\n\\nmyfs.fuctt22??\\n\\nc  = myfs.fuct23(1,2,3,3,4,5,3)\\n\\nprint(c)\\n\\n\""
      ]
     },
     "execution_count": 4,
     "metadata": {},
     "output_type": "execute_result"
    }
   ],
   "source": [
    "\"\"\"\n",
    "\n",
    "import sys\n",
    "\n",
    "sys.path.append)'C:/<folder_path>/'\n",
    "\n",
    "import myfile as myfs\n",
    "\n",
    "myfs.fuctt22??\n",
    "\n",
    "c  = myfs.fuct23(1,2,3,3,4,5,3)\n",
    "\n",
    "print(c)\n",
    "\n",
    "\"\"\""
   ]
  },
  {
   "cell_type": "code",
   "execution_count": 5,
   "id": "d22e126e",
   "metadata": {
    "execution": {
     "iopub.execute_input": "2023-12-18T19:39:14.392138Z",
     "iopub.status.busy": "2023-12-18T19:39:14.391529Z",
     "iopub.status.idle": "2023-12-18T19:39:14.398711Z",
     "shell.execute_reply": "2023-12-18T19:39:14.397099Z"
    },
    "papermill": {
     "duration": 0.013294,
     "end_time": "2023-12-18T19:39:14.401216",
     "exception": false,
     "start_time": "2023-12-18T19:39:14.387922",
     "status": "completed"
    },
    "tags": []
   },
   "outputs": [
    {
     "data": {
      "text/plain": [
       "'from myfile import fuctt23'"
      ]
     },
     "execution_count": 5,
     "metadata": {},
     "output_type": "execute_result"
    }
   ],
   "source": [
    "\"\"\"from myfile import fuctt23\"\"\""
   ]
  }
 ],
 "metadata": {
  "kaggle": {
   "accelerator": "none",
   "dataSources": [],
   "dockerImageVersionId": 30626,
   "isGpuEnabled": false,
   "isInternetEnabled": true,
   "language": "python",
   "sourceType": "notebook"
  },
  "kernelspec": {
   "display_name": "Python 3",
   "language": "python",
   "name": "python3"
  },
  "language_info": {
   "codemirror_mode": {
    "name": "ipython",
    "version": 3
   },
   "file_extension": ".py",
   "mimetype": "text/x-python",
   "name": "python",
   "nbconvert_exporter": "python",
   "pygments_lexer": "ipython3",
   "version": "3.10.12"
  },
  "papermill": {
   "default_parameters": {},
   "duration": 3.736032,
   "end_time": "2023-12-18T19:39:14.924873",
   "environment_variables": {},
   "exception": null,
   "input_path": "__notebook__.ipynb",
   "output_path": "__notebook__.ipynb",
   "parameters": {},
   "start_time": "2023-12-18T19:39:11.188841",
   "version": "2.4.0"
  }
 },
 "nbformat": 4,
 "nbformat_minor": 5
}
